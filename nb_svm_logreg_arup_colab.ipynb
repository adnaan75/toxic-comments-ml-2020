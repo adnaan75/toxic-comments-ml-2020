{
  "nbformat": 4,
  "nbformat_minor": 0,
  "metadata": {
    "colab": {
      "name": "nb-svm-logreg.ipynb",
      "provenance": [],
      "collapsed_sections": [],
      "toc_visible": true
    },
    "kernelspec": {
      "name": "python3",
      "display_name": "Python 3"
    },
    "accelerator": "GPU"
  },
  "cells": [
    {
      "cell_type": "code",
      "metadata": {
        "id": "hyf6bEO05BZf",
        "colab_type": "code",
        "colab": {
          "base_uri": "https://localhost:8080/",
          "height": 34
        },
        "outputId": "cb0071b0-0009-43e8-e773-17a5826a28ca"
      },
      "source": [
        "import tensorflow as tf\n",
        "tf.test.gpu_device_name()"
      ],
      "execution_count": 33,
      "outputs": [
        {
          "output_type": "execute_result",
          "data": {
            "text/plain": [
              "'/device:GPU:0'"
            ]
          },
          "metadata": {
            "tags": []
          },
          "execution_count": 33
        }
      ]
    },
    {
      "cell_type": "code",
      "metadata": {
        "id": "oii90RZDk8VZ",
        "colab_type": "code",
        "colab": {}
      },
      "source": [
        "# !python3 --version\n",
        "# !pip --version\n",
        "\n",
        "# References:\n",
        "# https://towardsdatascience.com/multi-label-text-classification-with-scikit-learn-30714b7819c5\n",
        "\n",
        "\n",
        "# UNCOMMENT THE BELOW IMPORTS IF YOU ARE NOT USING THE COLAB GPU OR IF YOU GET IMPORT ERRORS\n",
        "\n",
        "# !pip3 install re \n",
        "# !pip3 install matplotlib \n",
        "# !pip3 install numpy \n",
        "# !pip3 install pandas \n",
        "# !pip3 install scikit-learn \n",
        "# !pip3 install nltk \n",
        "# !pip3 install seaborn\n"
      ],
      "execution_count": 0,
      "outputs": []
    },
    {
      "cell_type": "code",
      "metadata": {
        "id": "picKhQCmkoBD",
        "colab_type": "code",
        "colab": {
          "base_uri": "https://localhost:8080/",
          "height": 85
        },
        "outputId": "bee0aeac-efb3-4129-8189-2aeaaf82b0df"
      },
      "source": [
        "%matplotlib inline\n",
        "import re\n",
        "import matplotlib\n",
        "import numpy as np\n",
        "import matplotlib.pyplot as plt\n",
        "import pandas as pd\n",
        "import nltk\n",
        "nltk.download('stopwords')\n",
        "print('Stopwords have finished downloading successfully')\n",
        "from sklearn.model_selection import train_test_split\n",
        "from sklearn.feature_extraction.text import TfidfVectorizer\n",
        "from sklearn.naive_bayes import MultinomialNB\n",
        "from sklearn.metrics import accuracy_score\n",
        "from sklearn.multiclass import OneVsRestClassifier\n",
        "from nltk.corpus import stopwords\n",
        "stop_words = set(stopwords.words('english'))\n",
        "from sklearn.svm import LinearSVC\n",
        "from sklearn.linear_model import LogisticRegression\n",
        "from sklearn.pipeline import Pipeline\n",
        "import seaborn as sns\n",
        "print('All imports were successful')"
      ],
      "execution_count": 34,
      "outputs": [
        {
          "output_type": "stream",
          "text": [
            "[nltk_data] Downloading package stopwords to /root/nltk_data...\n",
            "[nltk_data]   Package stopwords is already up-to-date!\n",
            "Stopwords have finished downloading successfully\n",
            "All imports were successful\n"
          ],
          "name": "stdout"
        }
      ]
    },
    {
      "cell_type": "code",
      "metadata": {
        "id": "l4y2pMcqoBbq",
        "colab_type": "code",
        "colab": {
          "base_uri": "https://localhost:8080/",
          "height": 289
        },
        "outputId": "33e80c79-0776-4805-f6f2-27f6c5402b96"
      },
      "source": [
        "df = pd.read_csv(\"/train.csv\", encoding = \"ISO-8859-1\")\n",
        "print('The first 5 elements in the train.csv are:')\n",
        "print(df.head())\n",
        "\n",
        "# Getting the number of comments in each category\n",
        "df_toxic = df.drop(['id', 'comment_text'], axis=1)\n",
        "counts = []\n",
        "categories = list(df_toxic.columns.values)\n",
        "for i in categories:\n",
        "    counts.append((i, df_toxic[i].sum()))\n",
        "df_stats = pd.DataFrame(counts, columns=['category', 'number_of_comments'])\n",
        "print(df_stats)"
      ],
      "execution_count": 37,
      "outputs": [
        {
          "output_type": "stream",
          "text": [
            "The first 5 elements in the train.csv are:\n",
            "                 id  ... identity_hate\n",
            "0  0000997932d777bf  ...             0\n",
            "1  000103f0d9cfb60f  ...             0\n",
            "2  000113f07ec002fd  ...             0\n",
            "3  0001b41b1c6bb37e  ...             0\n",
            "4  0001d958c54c6e35  ...             0\n",
            "\n",
            "[5 rows x 8 columns]\n",
            "        category  number_of_comments\n",
            "0          toxic               15294\n",
            "1   severe_toxic                1595\n",
            "2        obscene                8449\n",
            "3         threat                 478\n",
            "4         insult                7877\n",
            "5  identity_hate                1405\n"
          ],
          "name": "stdout"
        }
      ]
    },
    {
      "cell_type": "code",
      "metadata": {
        "id": "uKGU0e7RsD0h",
        "colab_type": "code",
        "colab": {
          "base_uri": "https://localhost:8080/",
          "height": 425
        },
        "outputId": "b0c2bddc-4ff5-4114-87d2-e18a41246432"
      },
      "source": [
        "# Getting a histogram of the categories\n",
        "my_colors = ['b', 'r', 'g', 'y', 'k', 'm']\n",
        "df_stats.plot(x='category', y='number_of_comments', kind='bar', legend=False, grid=True, figsize=(8, 5), color=my_colors)\n",
        "\n",
        "plt.title(\"Number of comments per category\")\n",
        "plt.ylabel('# of Occurrences', fontsize=12)\n",
        "plt.xlabel('Category', fontsize=12)\n",
        "# plt.show()"
      ],
      "execution_count": 42,
      "outputs": [
        {
          "output_type": "execute_result",
          "data": {
            "text/plain": [
              "Text(0.5, 0, 'Category')"
            ]
          },
          "metadata": {
            "tags": []
          },
          "execution_count": 42
        },
        {
          "output_type": "display_data",
          "data": {
            "image/png": "[encoded data removed]",
            "text/plain": [
              "<Figure size 576x360 with 1 Axes>"
            ]
          },
          "metadata": {
            "tags": []
          }
        }
      ]
    },
    {
      "cell_type": "code",
      "metadata": {
        "id": "gxgnEGCJsFz2",
        "colab_type": "code",
        "colab": {
          "base_uri": "https://localhost:8080/",
          "height": 370
        },
        "outputId": "60ec03df-b336-4260-e236-6816a5dd1227"
      },
      "source": [
        "# How many comments have multi-labels?\n",
        "rowsums = df.iloc[:,2:].sum(axis=1)\n",
        "x=rowsums.value_counts()\n",
        "#plot\n",
        "plt.figure(figsize=(8,5))\n",
        "ax = sns.barplot(x.index, x.values)\n",
        "plt.title(\"Multiple categories per comment\")\n",
        "plt.ylabel('# of Occurrences', fontsize=12)\n",
        "plt.xlabel('# of Categories', fontsize=12)"
      ],
      "execution_count": 17,
      "outputs": [
        {
          "output_type": "execute_result",
          "data": {
            "text/plain": [
              "Text(0.5, 0, '# of categories')"
            ]
          },
          "metadata": {
            "tags": []
          },
          "execution_count": 17
        },
        {
          "output_type": "display_data",
          "data": {
            "image/png": "[encoded data removed]",
            "text/plain": [
              "<Figure size 576x360 with 1 Axes>"
            ]
          },
          "metadata": {
            "tags": []
          }
        }
      ]
    },
    {
      "cell_type": "code",
      "metadata": {
        "id": "xA0VkBh5sJOW",
        "colab_type": "code",
        "colab": {
          "base_uri": "https://localhost:8080/",
          "height": 51
        },
        "outputId": "dbfad696-fe7c-43b0-d3e8-84c4accfdf7e"
      },
      "source": [
        "# How many comments are unlabeled\n",
        "print('Percentage of comments that are not labelled:')\n",
        "print(len(df[(df['toxic']==0) & (df['severe_toxic']==0) & (df['obscene']==0) & (df['threat']== 0) & (df['insult']==0) & (df['identity_hate']==0)]) / len(df))\n"
      ],
      "execution_count": 18,
      "outputs": [
        {
          "output_type": "stream",
          "text": [
            "Percentage of comments that are not labelled:\n",
            "0.8983211235124177\n"
          ],
          "name": "stdout"
        }
      ]
    },
    {
      "cell_type": "code",
      "metadata": {
        "id": "7w7NT134sN-g",
        "colab_type": "code",
        "colab": {
          "base_uri": "https://localhost:8080/",
          "height": 51
        },
        "outputId": "0c45666c-97a7-4507-e7c6-2d0b4032a2a9"
      },
      "source": [
        "# Function for cleaning the comment text\n",
        "def clean_text(text):\n",
        "    text = text.lower()\n",
        "    text = re.sub(r\"what's\", \"what is \", text)\n",
        "    text = re.sub(r\"\\'s\", \" \", text)\n",
        "    text = re.sub(r\"\\'ve\", \" have \", text)\n",
        "    text = re.sub(r\"can't\", \"can not \", text)\n",
        "    text = re.sub(r\"n't\", \" not \", text)\n",
        "    text = re.sub(r\"i'm\", \"i am \", text)\n",
        "    text = re.sub(r\"\\'re\", \" are \", text)\n",
        "    text = re.sub(r\"\\'d\", \" would \", text)\n",
        "    text = re.sub(r\"\\'ll\", \" will \", text)\n",
        "    text = re.sub(r\"\\'scuse\", \" excuse \", text)\n",
        "    text = re.sub('\\W', ' ', text)\n",
        "    text = re.sub('\\s+', ' ', text)\n",
        "    text = text.strip(' ')\n",
        "    return text\n",
        "\n",
        "# Use the helper function to clean the text\n",
        "df['comment_text'] = df['comment_text'].map(lambda comment : clean_text(comment))\n",
        "# print(df['comment_text'][0])\n",
        "\n",
        "# Splitting the data into train and test sets\n",
        "categories = ['toxic', 'severe_toxic', 'obscene', 'threat', 'insult', 'identity_hate']\n",
        "train, test = train_test_split(df, random_state=42, test_size=0.33, shuffle=True)\n",
        "X_train = train.comment_text\n",
        "X_test = test.comment_text\n",
        "print('train shape is', X_train.shape)\n",
        "print('test shape is', X_test.shape)"
      ],
      "execution_count": 24,
      "outputs": [
        {
          "output_type": "stream",
          "text": [
            "train shape is (106912,)\n",
            "test shape is (52659,)\n"
          ],
          "name": "stdout"
        }
      ]
    },
    {
      "cell_type": "code",
      "metadata": {
        "id": "g1VmWCuusV1u",
        "colab_type": "code",
        "colab": {
          "base_uri": "https://localhost:8080/",
          "height": 238
        },
        "outputId": "a94f65ea-39d3-40a4-cca9-0b390df76261"
      },
      "source": [
        "# Define a pipeline combining a text feature extractor with multi lable classifier\n",
        "# 1. Naive Bayes Pipeline\n",
        "#    This is essentially a Naive Bayes, but we pass the NB model into a OneVsRestClassifier,\n",
        "#    which is one of the methods we can use for datasets with multiple labels\n",
        "print('Training Naive Bayes Pipeline')\n",
        "NB_pipeline = Pipeline([\n",
        "                ('tfidf', TfidfVectorizer(stop_words=stop_words)),\n",
        "                ('clf', OneVsRestClassifier(MultinomialNB(\n",
        "                    fit_prior=True, class_prior=None))),\n",
        "            ])\n",
        "for category in categories:\n",
        "    print('... Training {}'.format(category))\n",
        "    # train the model using X_dtm & y\n",
        "    NB_pipeline.fit(X_train, train[category])\n",
        "    # compute the testing accuracy\n",
        "    prediction = NB_pipeline.predict(X_test)\n",
        "    print('... ... Test accuracy is {}'.format(accuracy_score(test[category], prediction)))"
      ],
      "execution_count": 29,
      "outputs": [
        {
          "output_type": "stream",
          "text": [
            "Training Naive Bayes Pipeline\n",
            "... Processing toxic\n",
            "Test accuracy is 0.9192350785240889\n",
            "... Processing severe_toxic\n",
            "Test accuracy is 0.9900112041626312\n",
            "... Processing obscene\n",
            "Test accuracy is 0.9515752293055318\n",
            "... Processing threat\n",
            "Test accuracy is 0.9971135038644866\n",
            "... Processing insult\n",
            "Test accuracy is 0.9517271501547694\n",
            "... Processing identity_hate\n",
            "Test accuracy is 0.9910556600011394\n"
          ],
          "name": "stdout"
        }
      ]
    },
    {
      "cell_type": "code",
      "metadata": {
        "id": "x6C0npvhsYO4",
        "colab_type": "code",
        "colab": {
          "base_uri": "https://localhost:8080/",
          "height": 238
        },
        "outputId": "9c391039-cdf0-469d-87fe-c311948b0094"
      },
      "source": [
        "# Linear SVC\n",
        "#    This is essentially an SVM, but we pass the SVM into a OneVsRestClassifier,\n",
        "#    which is one of the methods we can use for datasets with multiple labels\n",
        "print('Training Linear SVC Pipeline')\n",
        "SVC_pipeline = Pipeline([\n",
        "                ('tfidf', TfidfVectorizer(stop_words=stop_words)),\n",
        "                ('clf', OneVsRestClassifier(LinearSVC(), n_jobs=1)),\n",
        "            ])\n",
        "for category in categories:\n",
        "    print('... Training {}'.format(category))\n",
        "    # train the model using X_dtm & y\n",
        "    SVC_pipeline.fit(X_train, train[category])\n",
        "    # compute the testing accuracy\n",
        "    prediction = SVC_pipeline.predict(X_test)\n",
        "    print('... ... Test accuracy is {}'.format(accuracy_score(test[category], prediction)))"
      ],
      "execution_count": 30,
      "outputs": [
        {
          "output_type": "stream",
          "text": [
            "Training Linear SVC Pipeline\n",
            "... Training toxic\n",
            "... ... Test accuracy is 0.9600068364382157\n",
            "... Training severe_toxic\n",
            "... ... Test accuracy is 0.9906948479842003\n",
            "... Training obscene\n",
            "... ... Test accuracy is 0.9788830019559809\n",
            "... Training threat\n",
            "... ... Test accuracy is 0.9974363356691164\n",
            "... Training insult\n",
            "... ... Test accuracy is 0.971135038644866\n",
            "... Training identity_hate\n",
            "... ... Test accuracy is 0.9919861752027194\n"
          ],
          "name": "stdout"
        }
      ]
    },
    {
      "cell_type": "code",
      "metadata": {
        "id": "MAxUJ92Kseq1",
        "colab_type": "code",
        "colab": {
          "base_uri": "https://localhost:8080/",
          "height": 238
        },
        "outputId": "208fe9cd-e2a7-42ac-ceb5-d1d56e6ac25d"
      },
      "source": [
        "# Logistic Regression Pipeline\n",
        "#    This is essentially a Logistic Regression model, but we pass the Logistic Regression into a OneVsRestClassifier,\n",
        "#    which is one of the methods we can use for datasets with multiple labels\n",
        "print('Training Logistic Regression Pipeline')\n",
        "LogReg_pipeline = Pipeline([\n",
        "                ('tfidf', TfidfVectorizer(stop_words=stop_words)),\n",
        "                ('clf', OneVsRestClassifier(LogisticRegression(solver='sag'), n_jobs=1)),\n",
        "            ])\n",
        "for category in categories:\n",
        "    print('... Training {}'.format(category))\n",
        "    # train the model using X_dtm & y\n",
        "    LogReg_pipeline.fit(X_train, train[category])\n",
        "    # compute the testing accuracy\n",
        "    prediction = LogReg_pipeline.predict(X_test)\n",
        "    print('... ... Test accuracy is {}'.format(accuracy_score(test[category], prediction)))"
      ],
      "execution_count": 31,
      "outputs": [
        {
          "output_type": "stream",
          "text": [
            "Training Logistic Regression Pipeline\n",
            "... Training toxic\n",
            "... Test accuracy is 0.9548415275641391\n",
            "... Training severe_toxic\n",
            "... Test accuracy is 0.9910746501072941\n",
            "... Training obscene\n",
            "... Test accuracy is 0.9760534761389316\n",
            "... Training threat\n",
            "... Test accuracy is 0.9973603752444976\n",
            "... Training insult\n",
            "... Test accuracy is 0.9687422852693747\n",
            "... Training identity_hate\n",
            "... Test accuracy is 0.991758293928863\n"
          ],
          "name": "stdout"
        }
      ]
    }
  ]
}