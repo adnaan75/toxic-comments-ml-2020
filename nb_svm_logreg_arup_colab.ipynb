{
  "nbformat": 4,
  "nbformat_minor": 0,
  "metadata": {
    "accelerator": "GPU",
    "colab": {
      "name": "nb_svm_logreg.ipynb",
      "provenance": [],
      "collapsed_sections": [],
      "toc_visible": true
    },
    "kernelspec": {
      "display_name": "Python 3",
      "language": "python",
      "name": "python3"
    },
    "language_info": {
      "codemirror_mode": {
        "name": "ipython",
        "version": 3
      },
      "file_extension": ".py",
      "mimetype": "text/x-python",
      "name": "python",
      "nbconvert_exporter": "python",
      "pygments_lexer": "ipython3",
      "version": "3.7.3"
    }
  },
  "cells": [
    {
      "cell_type": "code",
      "metadata": {
        "colab_type": "code",
        "id": "hyf6bEO05BZf",
        "outputId": "aafd36b5-29d0-40a0-ec0d-dd539b40d955",
        "colab": {
          "base_uri": "https://localhost:8080/",
          "height": 34
        }
      },
      "source": [
        "import tensorflow as tf\n",
        "tf.test.gpu_device_name()"
      ],
      "execution_count": 1,
      "outputs": [
        {
          "output_type": "execute_result",
          "data": {
            "text/plain": [
              "'/device:GPU:0'"
            ]
          },
          "metadata": {
            "tags": []
          },
          "execution_count": 1
        }
      ]
    },
    {
      "cell_type": "code",
      "metadata": {
        "colab_type": "code",
        "id": "oii90RZDk8VZ",
        "colab": {
          "base_uri": "https://localhost:8080/",
          "height": 241
        },
        "outputId": "75dfaaf7-c3e3-4c16-add7-5654ebd56e77"
      },
      "source": [
        "# !python3 --version\n",
        "# !pip --version\n",
        "\n",
        "# References:\n",
        "# https://towardsdatascience.com/multi-label-text-classification-with-scikit-learn-30714b7819c5\n",
        "\n",
        "\n",
        "# UNCOMMENT THE BELOW IMPORTS IF YOU ARE NOT USING THE COLAB GPU OR IF YOU GET IMPORT ERRORS\n",
        "\n",
        "# !pip3 install re \n",
        "# !pip3 install matplotlib \n",
        "# !pip3 install numpy \n",
        "# !pip3 install pandas \n",
        "# !pip3 install scikit-learn \n",
        "# !pip3 install nltk \n",
        "!pip3 install seaborn\n"
      ],
      "execution_count": 2,
      "outputs": [
        {
          "output_type": "stream",
          "text": [
            "Requirement already satisfied: seaborn in /usr/local/lib/python3.6/dist-packages (0.10.0)\n",
            "Requirement already satisfied: matplotlib>=2.1.2 in /usr/local/lib/python3.6/dist-packages (from seaborn) (3.2.1)\n",
            "Requirement already satisfied: scipy>=1.0.1 in /usr/local/lib/python3.6/dist-packages (from seaborn) (1.4.1)\n",
            "Requirement already satisfied: pandas>=0.22.0 in /usr/local/lib/python3.6/dist-packages (from seaborn) (1.0.3)\n",
            "Requirement already satisfied: numpy>=1.13.3 in /usr/local/lib/python3.6/dist-packages (from seaborn) (1.18.2)\n",
            "Requirement already satisfied: python-dateutil>=2.1 in /usr/local/lib/python3.6/dist-packages (from matplotlib>=2.1.2->seaborn) (2.8.1)\n",
            "Requirement already satisfied: cycler>=0.10 in /usr/local/lib/python3.6/dist-packages (from matplotlib>=2.1.2->seaborn) (0.10.0)\n",
            "Requirement already satisfied: pyparsing!=2.0.4,!=2.1.2,!=2.1.6,>=2.0.1 in /usr/local/lib/python3.6/dist-packages (from matplotlib>=2.1.2->seaborn) (2.4.6)\n",
            "Requirement already satisfied: kiwisolver>=1.0.1 in /usr/local/lib/python3.6/dist-packages (from matplotlib>=2.1.2->seaborn) (1.1.0)\n",
            "Requirement already satisfied: pytz>=2017.2 in /usr/local/lib/python3.6/dist-packages (from pandas>=0.22.0->seaborn) (2018.9)\n",
            "Requirement already satisfied: six>=1.5 in /usr/local/lib/python3.6/dist-packages (from python-dateutil>=2.1->matplotlib>=2.1.2->seaborn) (1.12.0)\n",
            "Requirement already satisfied: setuptools in /usr/local/lib/python3.6/dist-packages (from kiwisolver>=1.0.1->matplotlib>=2.1.2->seaborn) (46.0.0)\n"
          ],
          "name": "stdout"
        }
      ]
    },
    {
      "cell_type": "code",
      "metadata": {
        "colab_type": "code",
        "id": "picKhQCmkoBD",
        "outputId": "8d26f42b-fbd5-4076-d6d4-a62ee1f3b6c2",
        "colab": {
          "base_uri": "https://localhost:8080/",
          "height": 139
        }
      },
      "source": [
        "%matplotlib inline\n",
        "import re\n",
        "import matplotlib\n",
        "import numpy as np\n",
        "import matplotlib.pyplot as plt\n",
        "import pandas as pd\n",
        "import nltk\n",
        "nltk.download('stopwords')\n",
        "print('Stopwords have finished downloading successfully')\n",
        "from sklearn.model_selection import train_test_split\n",
        "from sklearn.feature_extraction.text import TfidfVectorizer\n",
        "from sklearn.naive_bayes import MultinomialNB\n",
        "from sklearn.metrics import accuracy_score, classification_report\n",
        "from sklearn.multiclass import OneVsRestClassifier\n",
        "from nltk.corpus import stopwords\n",
        "stop_words = set(stopwords.words('english'))\n",
        "from sklearn.svm import LinearSVC\n",
        "from sklearn.linear_model import LogisticRegression\n",
        "from sklearn.pipeline import Pipeline\n",
        "import seaborn as sns\n",
        "print('All imports were successful')"
      ],
      "execution_count": 2,
      "outputs": [
        {
          "output_type": "stream",
          "text": [
            "[nltk_data] Downloading package stopwords to /root/nltk_data...\n",
            "[nltk_data]   Package stopwords is already up-to-date!\n",
            "Stopwords have finished downloading successfully\n",
            "All imports were successful\n"
          ],
          "name": "stdout"
        },
        {
          "output_type": "stream",
          "text": [
            "/usr/local/lib/python3.6/dist-packages/statsmodels/tools/_testing.py:19: FutureWarning: pandas.util.testing is deprecated. Use the functions in the public API at pandas.testing instead.\n",
            "  import pandas.util.testing as tm\n"
          ],
          "name": "stderr"
        }
      ]
    },
    {
      "cell_type": "code",
      "metadata": {
        "colab_type": "code",
        "id": "l4y2pMcqoBbq",
        "outputId": "15f67fa7-4fb6-4ae7-e9e4-5e23501c57ae",
        "colab": {
          "base_uri": "https://localhost:8080/",
          "height": 289
        }
      },
      "source": [
        "# df = pd.read_csv(\"./train.csv\", encoding = \"ISO-8859-1\")\n",
        "df = pd.read_csv(\"/content/train.csv\", encoding = \"ISO-8859-1\")\n",
        "print('The first 5 elements in the train.csv are:')\n",
        "print(df.head())\n",
        "\n",
        "# Getting the number of comments in each category\n",
        "df_toxic = df.drop(['id', 'comment_text'], axis=1)\n",
        "counts = []\n",
        "categories = list(df_toxic.columns.values)\n",
        "for i in categories:\n",
        "    counts.append((i, df_toxic[i].sum()))\n",
        "df_stats = pd.DataFrame(counts, columns=['category', 'number_of_comments'])\n",
        "print(df_stats)"
      ],
      "execution_count": 3,
      "outputs": [
        {
          "output_type": "stream",
          "text": [
            "The first 5 elements in the train.csv are:\n",
            "                 id  ... identity_hate\n",
            "0  0000997932d777bf  ...             0\n",
            "1  000103f0d9cfb60f  ...             0\n",
            "2  000113f07ec002fd  ...             0\n",
            "3  0001b41b1c6bb37e  ...             0\n",
            "4  0001d958c54c6e35  ...             0\n",
            "\n",
            "[5 rows x 8 columns]\n",
            "        category  number_of_comments\n",
            "0          toxic               15294\n",
            "1   severe_toxic                1595\n",
            "2        obscene                8449\n",
            "3         threat                 478\n",
            "4         insult                7877\n",
            "5  identity_hate                1405\n"
          ],
          "name": "stdout"
        }
      ]
    },
    {
      "cell_type": "code",
      "metadata": {
        "colab_type": "code",
        "id": "uKGU0e7RsD0h",
        "outputId": "84511d08-c933-4b48-a68b-cfac89b4bd26",
        "colab": {
          "base_uri": "https://localhost:8080/",
          "height": 425
        }
      },
      "source": [
        "# Getting a histogram of the categories\n",
        "my_colors = ['b', 'r', 'g', 'y', 'k', 'm']\n",
        "df_stats.plot(x='category', y='number_of_comments', kind='bar', legend=False, grid=True, figsize=(8, 5), color=my_colors)\n",
        "\n",
        "plt.title(\"Number of comments per category\")\n",
        "plt.ylabel('# of Occurrences', fontsize=12)\n",
        "plt.xlabel('Category', fontsize=12)\n",
        "# plt.show()"
      ],
      "execution_count": 4,
      "outputs": [
        {
          "output_type": "execute_result",
          "data": {
            "text/plain": [
              "Text(0.5, 0, 'Category')"
            ]
          },
          "metadata": {
            "tags": []
          },
          "execution_count": 4
        },
        {
          "output_type": "display_data",
          "data": {
            "image/png": "[encoded data removed]",
            "text/plain": [
              "<Figure size 576x360 with 1 Axes>"
            ]
          },
          "metadata": {
            "tags": []
          }
        }
      ]
    },
    {
      "cell_type": "code",
      "metadata": {
        "colab_type": "code",
        "id": "gxgnEGCJsFz2",
        "outputId": "7b94b177-e220-480b-8a25-36a070fa83ef",
        "colab": {
          "base_uri": "https://localhost:8080/",
          "height": 370
        }
      },
      "source": [
        "# How many comments have multi-labels?\n",
        "rowsums = df.iloc[:,2:].sum(axis=1)\n",
        "x=rowsums.value_counts()\n",
        "#plot\n",
        "plt.figure(figsize=(8,5))\n",
        "ax = sns.barplot(x.index, x.values)\n",
        "plt.title(\"Multiple categories per comment\")\n",
        "plt.ylabel('# of Occurrences', fontsize=12)\n",
        "plt.xlabel('# of Categories', fontsize=12)"
      ],
      "execution_count": 5,
      "outputs": [
        {
          "output_type": "execute_result",
          "data": {
            "text/plain": [
              "Text(0.5, 0, '# of Categories')"
            ]
          },
          "metadata": {
            "tags": []
          },
          "execution_count": 5
        },
        {
          "output_type": "display_data",
          "data": {
            "image/png": "[encoded data removed]",
            "text/plain": [
              "<Figure size 576x360 with 1 Axes>"
            ]
          },
          "metadata": {
            "tags": []
          }
        }
      ]
    },
    {
      "cell_type": "code",
      "metadata": {
        "colab_type": "code",
        "id": "xA0VkBh5sJOW",
        "outputId": "8d4f6147-2770-4b0a-d606-e94b20fc2b4d",
        "colab": {
          "base_uri": "https://localhost:8080/",
          "height": 51
        }
      },
      "source": [
        "# How many comments are unlabeled\n",
        "print('Percentage of comments that are not labelled:')\n",
        "print(len(df[(df['toxic']==0) & (df['severe_toxic']==0) & (df['obscene']==0) & (df['threat']== 0) & (df['insult']==0) & (df['identity_hate']==0)]) / len(df))\n"
      ],
      "execution_count": 6,
      "outputs": [
        {
          "output_type": "stream",
          "text": [
            "Percentage of comments that are not labelled:\n",
            "0.8983211235124177\n"
          ],
          "name": "stdout"
        }
      ]
    },
    {
      "cell_type": "code",
      "metadata": {
        "colab_type": "code",
        "id": "7w7NT134sN-g",
        "outputId": "122c7a58-f4d4-4ad3-8c28-c483c0e178b3",
        "colab": {
          "base_uri": "https://localhost:8080/",
          "height": 51
        }
      },
      "source": [
        "# Function for cleaning the comment text\n",
        "def clean_text(text):\n",
        "    text = text.lower()\n",
        "    text = re.sub(r\"what's\", \"what is \", text)\n",
        "    text = re.sub(r\"\\'s\", \" \", text)\n",
        "    text = re.sub(r\"\\'ve\", \" have \", text)\n",
        "    text = re.sub(r\"can't\", \"can not \", text)\n",
        "    text = re.sub(r\"n't\", \" not \", text)\n",
        "    text = re.sub(r\"i'm\", \"i am \", text)\n",
        "    text = re.sub(r\"\\'re\", \" are \", text)\n",
        "    text = re.sub(r\"\\'d\", \" would \", text)\n",
        "    text = re.sub(r\"\\'ll\", \" will \", text)\n",
        "    text = re.sub(r\"\\'scuse\", \" excuse \", text)\n",
        "    text = re.sub('\\W', ' ', text)\n",
        "    text = re.sub('\\s+', ' ', text)\n",
        "    text = text.strip(' ')\n",
        "    return text\n",
        "\n",
        "# Use the helper function to clean the text\n",
        "df['comment_text'] = df['comment_text'].map(lambda comment : clean_text(comment))\n",
        "# print(df['comment_text'][0])\n",
        "\n",
        "# Splitting the data into train and test sets\n",
        "categories = ['toxic', 'severe_toxic', 'obscene', 'threat', 'insult', 'identity_hate']\n",
        "train, test = train_test_split(df, random_state=42, test_size=0.33, shuffle=True)\n",
        "X_train = train.comment_text\n",
        "X_test = test.comment_text\n",
        "print('train shape is', X_train.shape)\n",
        "print('test shape is', X_test.shape)"
      ],
      "execution_count": 7,
      "outputs": [
        {
          "output_type": "stream",
          "text": [
            "train shape is (106912,)\n",
            "test shape is (52659,)\n"
          ],
          "name": "stdout"
        }
      ]
    },
    {
      "cell_type": "code",
      "metadata": {
        "colab_type": "code",
        "id": "g1VmWCuusV1u",
        "outputId": "3dc34714-fce9-46e4-a02e-8ced7841f7cb",
        "colab": {
          "base_uri": "https://localhost:8080/",
          "height": 1000
        }
      },
      "source": [
        "# from sklearn.utils.class_weight import compute_class_weight\n",
        "# class_weights = compute_class_weight('balanced', np.unique(test), test)\n",
        "\n",
        "# Define a pipeline combining a text feature extractor with multi lable classifier\n",
        "# 1. Naive Bayes Pipeline\n",
        "#    This is essentially a Naive Bayes, but we pass the NB model into a OneVsRestClassifier,\n",
        "#    which is one of the methods we can use for datasets with multiple labels\n",
        "print('Training Naive Bayes Pipeline\\n')\n",
        "NB_pipeline = Pipeline([\n",
        "                ('tfidf', TfidfVectorizer(stop_words=stop_words)),\n",
        "                ('clf', OneVsRestClassifier(MultinomialNB(\n",
        "                    fit_prior=True, class_prior=None))),\n",
        "            ])\n",
        "for category in categories:\n",
        "    print('--------- Training {} ---------\\n'.format(category))\n",
        "    # train the model using X_dtm & y\n",
        "    NB_pipeline.fit(X_train, train[category])\n",
        "    # compute the testing accuracy\n",
        "    prediction = NB_pipeline.predict(X_test)\n",
        "    print(classification_report(test[category], prediction, labels=np.unique(test[category])))\n",
        "#     print(prediction.head())\n",
        "#     print(prediction)"
      ],
      "execution_count": 8,
      "outputs": [
        {
          "output_type": "stream",
          "text": [
            "Training Naive Bayes Pipeline\n",
            "\n",
            "--------- Training toxic ---------\n",
            "\n",
            "              precision    recall  f1-score   support\n",
            "\n",
            "           0       0.92      1.00      0.96     47576\n",
            "           1       0.99      0.16      0.28      5083\n",
            "\n",
            "    accuracy                           0.92     52659\n",
            "   macro avg       0.95      0.58      0.62     52659\n",
            "weighted avg       0.93      0.92      0.89     52659\n",
            "\n",
            "--------- Training severe_toxic ---------\n",
            "\n"
          ],
          "name": "stdout"
        },
        {
          "output_type": "stream",
          "text": [
            "/usr/local/lib/python3.6/dist-packages/sklearn/metrics/_classification.py:1272: UndefinedMetricWarning: Precision and F-score are ill-defined and being set to 0.0 in labels with no predicted samples. Use `zero_division` parameter to control this behavior.\n",
            "  _warn_prf(average, modifier, msg_start, len(result))\n"
          ],
          "name": "stderr"
        },
        {
          "output_type": "stream",
          "text": [
            "              precision    recall  f1-score   support\n",
            "\n",
            "           0       0.99      1.00      0.99     52133\n",
            "           1       0.00      0.00      0.00       526\n",
            "\n",
            "    accuracy                           0.99     52659\n",
            "   macro avg       0.50      0.50      0.50     52659\n",
            "weighted avg       0.98      0.99      0.99     52659\n",
            "\n",
            "--------- Training obscene ---------\n",
            "\n",
            "              precision    recall  f1-score   support\n",
            "\n",
            "           0       0.95      1.00      0.98     49828\n",
            "           1       0.99      0.10      0.18      2831\n",
            "\n",
            "    accuracy                           0.95     52659\n",
            "   macro avg       0.97      0.55      0.58     52659\n",
            "weighted avg       0.95      0.95      0.93     52659\n",
            "\n",
            "--------- Training threat ---------\n",
            "\n"
          ],
          "name": "stdout"
        },
        {
          "output_type": "stream",
          "text": [
            "/usr/local/lib/python3.6/dist-packages/sklearn/metrics/_classification.py:1272: UndefinedMetricWarning: Precision and F-score are ill-defined and being set to 0.0 in labels with no predicted samples. Use `zero_division` parameter to control this behavior.\n",
            "  _warn_prf(average, modifier, msg_start, len(result))\n"
          ],
          "name": "stderr"
        },
        {
          "output_type": "stream",
          "text": [
            "              precision    recall  f1-score   support\n",
            "\n",
            "           0       1.00      1.00      1.00     52507\n",
            "           1       0.00      0.00      0.00       152\n",
            "\n",
            "    accuracy                           1.00     52659\n",
            "   macro avg       0.50      0.50      0.50     52659\n",
            "weighted avg       0.99      1.00      1.00     52659\n",
            "\n",
            "--------- Training insult ---------\n",
            "\n",
            "              precision    recall  f1-score   support\n",
            "\n",
            "           0       0.95      1.00      0.98     50016\n",
            "           1       0.98      0.04      0.07      2643\n",
            "\n",
            "    accuracy                           0.95     52659\n",
            "   macro avg       0.97      0.52      0.53     52659\n",
            "weighted avg       0.95      0.95      0.93     52659\n",
            "\n",
            "--------- Training identity_hate ---------\n",
            "\n",
            "              precision    recall  f1-score   support\n",
            "\n",
            "           0       0.99      1.00      1.00     52188\n",
            "           1       0.00      0.00      0.00       471\n",
            "\n",
            "    accuracy                           0.99     52659\n",
            "   macro avg       0.50      0.50      0.50     52659\n",
            "weighted avg       0.98      0.99      0.99     52659\n",
            "\n"
          ],
          "name": "stdout"
        },
        {
          "output_type": "stream",
          "text": [
            "/usr/local/lib/python3.6/dist-packages/sklearn/metrics/_classification.py:1272: UndefinedMetricWarning: Precision and F-score are ill-defined and being set to 0.0 in labels with no predicted samples. Use `zero_division` parameter to control this behavior.\n",
            "  _warn_prf(average, modifier, msg_start, len(result))\n"
          ],
          "name": "stderr"
        }
      ]
    },
    {
      "cell_type": "code",
      "metadata": {
        "colab_type": "code",
        "id": "x6C0npvhsYO4",
        "outputId": "d1040e82-6c5d-461f-e508-9985227d1861",
        "colab": {
          "base_uri": "https://localhost:8080/",
          "height": 1000
        }
      },
      "source": [
        "# Linear SVC\n",
        "#    This is essentially an SVM, but we pass the SVM into a OneVsRestClassifier,\n",
        "#    which is one of the methods we can use for datasets with multiple labels\n",
        "print('Training Linear SVC Pipeline\\n')\n",
        "SVC_pipeline = Pipeline([\n",
        "                ('tfidf', TfidfVectorizer(stop_words=stop_words)),\n",
        "                ('clf', OneVsRestClassifier(LinearSVC(max_iter = 400, class_weight='balanced'), n_jobs=1)),\n",
        "            ])\n",
        "for category in categories:\n",
        "    print('--------- Training {} ---------\\n'.format(category))\n",
        "    # train the model using X_dtm & y\n",
        "    SVC_pipeline.fit(X_train, train[category])\n",
        "    # compute the testing accuracy\n",
        "    prediction = SVC_pipeline.predict(X_test)\n",
        "#     print('... ... Test accuracy is {}'.format(accuracy_score(test[category], prediction)))\n",
        "    print(classification_report(test[category], prediction, labels=np.unique(test[category])))\n"
      ],
      "execution_count": 9,
      "outputs": [
        {
          "output_type": "stream",
          "text": [
            "Training Linear SVC Pipeline\n",
            "\n",
            "--------- Training toxic ---------\n",
            "\n",
            "              precision    recall  f1-score   support\n",
            "\n",
            "           0       0.98      0.97      0.97     47576\n",
            "           1       0.71      0.80      0.75      5083\n",
            "\n",
            "    accuracy                           0.95     52659\n",
            "   macro avg       0.84      0.88      0.86     52659\n",
            "weighted avg       0.95      0.95      0.95     52659\n",
            "\n",
            "--------- Training severe_toxic ---------\n",
            "\n"
          ],
          "name": "stdout"
        },
        {
          "output_type": "stream",
          "text": [
            "/usr/local/lib/python3.6/dist-packages/sklearn/svm/_base.py:947: ConvergenceWarning: Liblinear failed to converge, increase the number of iterations.\n",
            "  \"the number of iterations.\", ConvergenceWarning)\n"
          ],
          "name": "stderr"
        },
        {
          "output_type": "stream",
          "text": [
            "              precision    recall  f1-score   support\n",
            "\n",
            "           0       1.00      0.99      0.99     52133\n",
            "           1       0.33      0.61      0.43       526\n",
            "\n",
            "    accuracy                           0.98     52659\n",
            "   macro avg       0.66      0.80      0.71     52659\n",
            "weighted avg       0.99      0.98      0.99     52659\n",
            "\n",
            "--------- Training obscene ---------\n",
            "\n",
            "              precision    recall  f1-score   support\n",
            "\n",
            "           0       0.99      0.99      0.99     49828\n",
            "           1       0.76      0.82      0.79      2831\n",
            "\n",
            "    accuracy                           0.98     52659\n",
            "   macro avg       0.88      0.90      0.89     52659\n",
            "weighted avg       0.98      0.98      0.98     52659\n",
            "\n",
            "--------- Training threat ---------\n",
            "\n"
          ],
          "name": "stdout"
        },
        {
          "output_type": "stream",
          "text": [
            "/usr/local/lib/python3.6/dist-packages/sklearn/svm/_base.py:947: ConvergenceWarning: Liblinear failed to converge, increase the number of iterations.\n",
            "  \"the number of iterations.\", ConvergenceWarning)\n"
          ],
          "name": "stderr"
        },
        {
          "output_type": "stream",
          "text": [
            "              precision    recall  f1-score   support\n",
            "\n",
            "           0       1.00      1.00      1.00     52507\n",
            "           1       0.41      0.47      0.44       152\n",
            "\n",
            "    accuracy                           1.00     52659\n",
            "   macro avg       0.70      0.74      0.72     52659\n",
            "weighted avg       1.00      1.00      1.00     52659\n",
            "\n",
            "--------- Training insult ---------\n",
            "\n",
            "              precision    recall  f1-score   support\n",
            "\n",
            "           0       0.99      0.98      0.98     50016\n",
            "           1       0.62      0.76      0.69      2643\n",
            "\n",
            "    accuracy                           0.97     52659\n",
            "   macro avg       0.81      0.87      0.83     52659\n",
            "weighted avg       0.97      0.97      0.97     52659\n",
            "\n",
            "--------- Training identity_hate ---------\n",
            "\n"
          ],
          "name": "stdout"
        },
        {
          "output_type": "stream",
          "text": [
            "/usr/local/lib/python3.6/dist-packages/sklearn/svm/_base.py:947: ConvergenceWarning: Liblinear failed to converge, increase the number of iterations.\n",
            "  \"the number of iterations.\", ConvergenceWarning)\n"
          ],
          "name": "stderr"
        },
        {
          "output_type": "stream",
          "text": [
            "              precision    recall  f1-score   support\n",
            "\n",
            "           0       1.00      0.99      0.99     52188\n",
            "           1       0.39      0.54      0.45       471\n",
            "\n",
            "    accuracy                           0.99     52659\n",
            "   macro avg       0.69      0.76      0.72     52659\n",
            "weighted avg       0.99      0.99      0.99     52659\n",
            "\n"
          ],
          "name": "stdout"
        }
      ]
    },
    {
      "cell_type": "code",
      "metadata": {
        "colab_type": "code",
        "id": "MAxUJ92Kseq1",
        "outputId": "2519e0a6-9d59-4bf5-bf7d-778b44e0983d",
        "colab": {
          "base_uri": "https://localhost:8080/",
          "height": 1000
        }
      },
      "source": [
        "# Logistic Regression Pipeline\n",
        "#    This is essentially a Logistic Regression model, but we pass the Logistic Regression into a OneVsRestClassifier,\n",
        "#    which is one of the methods we can use for datasets with multiple labels\n",
        "print('Training Logistic Regression Pipeline\\n')\n",
        "LogReg_pipeline = Pipeline([\n",
        "                ('tfidf', TfidfVectorizer(stop_words=stop_words)),\n",
        "                ('clf', OneVsRestClassifier(LogisticRegression(max_iter = 400, solver='sag', class_weight='balanced'), n_jobs=1)),\n",
        "            ])\n",
        "for category in categories:\n",
        "    print('--------- Training {} ---------\\n'.format(category))\n",
        "    # train the model using X_dtm & y\n",
        "    LogReg_pipeline.fit(X_train, train[category])\n",
        "    # compute the testing accuracy\n",
        "    prediction = LogReg_pipeline.predict(X_test)\n",
        "    print(classification_report(test[category], prediction, labels=np.unique(test[category])))\n"
      ],
      "execution_count": 10,
      "outputs": [
        {
          "output_type": "stream",
          "text": [
            "Training Logistic Regression Pipeline\n",
            "\n",
            "--------- Training toxic ---------\n",
            "\n",
            "              precision    recall  f1-score   support\n",
            "\n",
            "           0       0.98      0.95      0.97     47576\n",
            "           1       0.66      0.85      0.74      5083\n",
            "\n",
            "    accuracy                           0.94     52659\n",
            "   macro avg       0.82      0.90      0.85     52659\n",
            "weighted avg       0.95      0.94      0.95     52659\n",
            "\n",
            "--------- Training severe_toxic ---------\n",
            "\n"
          ],
          "name": "stdout"
        },
        {
          "output_type": "stream",
          "text": [
            "/usr/local/lib/python3.6/dist-packages/sklearn/linear_model/_sag.py:330: ConvergenceWarning: The max_iter was reached which means the coef_ did not converge\n",
            "  \"the coef_ did not converge\", ConvergenceWarning)\n"
          ],
          "name": "stderr"
        },
        {
          "output_type": "stream",
          "text": [
            "              precision    recall  f1-score   support\n",
            "\n",
            "           0       1.00      0.95      0.97     52133\n",
            "           1       0.14      0.87      0.25       526\n",
            "\n",
            "    accuracy                           0.95     52659\n",
            "   macro avg       0.57      0.91      0.61     52659\n",
            "weighted avg       0.99      0.95      0.97     52659\n",
            "\n",
            "--------- Training obscene ---------\n",
            "\n"
          ],
          "name": "stdout"
        },
        {
          "output_type": "stream",
          "text": [
            "/usr/local/lib/python3.6/dist-packages/sklearn/linear_model/_sag.py:330: ConvergenceWarning: The max_iter was reached which means the coef_ did not converge\n",
            "  \"the coef_ did not converge\", ConvergenceWarning)\n"
          ],
          "name": "stderr"
        },
        {
          "output_type": "stream",
          "text": [
            "              precision    recall  f1-score   support\n",
            "\n",
            "           0       0.99      0.98      0.99     49828\n",
            "           1       0.71      0.86      0.78      2831\n",
            "\n",
            "    accuracy                           0.97     52659\n",
            "   macro avg       0.85      0.92      0.88     52659\n",
            "weighted avg       0.98      0.97      0.97     52659\n",
            "\n",
            "--------- Training threat ---------\n",
            "\n"
          ],
          "name": "stdout"
        },
        {
          "output_type": "stream",
          "text": [
            "/usr/local/lib/python3.6/dist-packages/sklearn/linear_model/_sag.py:330: ConvergenceWarning: The max_iter was reached which means the coef_ did not converge\n",
            "  \"the coef_ did not converge\", ConvergenceWarning)\n"
          ],
          "name": "stderr"
        },
        {
          "output_type": "stream",
          "text": [
            "              precision    recall  f1-score   support\n",
            "\n",
            "           0       1.00      0.93      0.97     52507\n",
            "           1       0.04      0.86      0.07       152\n",
            "\n",
            "    accuracy                           0.93     52659\n",
            "   macro avg       0.52      0.89      0.52     52659\n",
            "weighted avg       1.00      0.93      0.96     52659\n",
            "\n",
            "--------- Training insult ---------\n",
            "\n"
          ],
          "name": "stdout"
        },
        {
          "output_type": "stream",
          "text": [
            "/usr/local/lib/python3.6/dist-packages/sklearn/linear_model/_sag.py:330: ConvergenceWarning: The max_iter was reached which means the coef_ did not converge\n",
            "  \"the coef_ did not converge\", ConvergenceWarning)\n"
          ],
          "name": "stderr"
        },
        {
          "output_type": "stream",
          "text": [
            "              precision    recall  f1-score   support\n",
            "\n",
            "           0       0.99      0.97      0.98     50016\n",
            "           1       0.56      0.84      0.67      2643\n",
            "\n",
            "    accuracy                           0.96     52659\n",
            "   macro avg       0.78      0.90      0.83     52659\n",
            "weighted avg       0.97      0.96      0.96     52659\n",
            "\n",
            "--------- Training identity_hate ---------\n",
            "\n"
          ],
          "name": "stdout"
        },
        {
          "output_type": "stream",
          "text": [
            "/usr/local/lib/python3.6/dist-packages/sklearn/linear_model/_sag.py:330: ConvergenceWarning: The max_iter was reached which means the coef_ did not converge\n",
            "  \"the coef_ did not converge\", ConvergenceWarning)\n"
          ],
          "name": "stderr"
        },
        {
          "output_type": "stream",
          "text": [
            "              precision    recall  f1-score   support\n",
            "\n",
            "           0       1.00      0.92      0.96     52188\n",
            "           1       0.08      0.85      0.15       471\n",
            "\n",
            "    accuracy                           0.92     52659\n",
            "   macro avg       0.54      0.88      0.55     52659\n",
            "weighted avg       0.99      0.92      0.95     52659\n",
            "\n"
          ],
          "name": "stdout"
        }
      ]
    }
  ]
}