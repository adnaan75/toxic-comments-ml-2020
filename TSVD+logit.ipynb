{
  "nbformat": 4,
  "nbformat_minor": 0,
  "metadata": {
    "colab": {
      "name": "TSVD+logit",
      "provenance": [],
      "collapsed_sections": []
    },
    "kernelspec": {
      "name": "python3",
      "display_name": "Python 3"
    }
  },
  "cells": [
    {
      "cell_type": "code",
      "metadata": {
        "id": "OnFU0sIUuQzq",
        "colab_type": "code",
        "outputId": "0722f46a-c090-44e7-d59f-ed697af62ccc",
        "colab": {
          "base_uri": "https://localhost:8080/",
          "height": 51
        }
      },
      "source": [
        "import re\n",
        "import matplotlib\n",
        "import numpy as np\n",
        "import matplotlib.pyplot as plt\n",
        "import pandas as pd\n",
        "import nltk\n",
        "nltk.download('stopwords')\n",
        "from sklearn.model_selection import train_test_split\n",
        "from sklearn.feature_extraction.text import TfidfVectorizer\n",
        "from sklearn.naive_bayes import MultinomialNB\n",
        "from sklearn.metrics import accuracy_score, classification_report\n",
        "from sklearn.multiclass import OneVsRestClassifier\n",
        "from nltk.corpus import stopwords\n",
        "stop_words = set(stopwords.words('english'))\n",
        "from sklearn.svm import LinearSVC\n",
        "from sklearn.linear_model import LogisticRegression\n",
        "from sklearn.pipeline import Pipeline\n",
        "import seaborn as sns\n",
        "import pickle\n",
        "\n",
        "from sklearn.metrics import accuracy_score\n",
        "from sklearn.metrics import f1_score\n",
        "from sklearn.metrics import roc_auc_score \n",
        "from sklearn.metrics import average_precision_score\n",
        "from sklearn.metrics import recall_score\n",
        "from sklearn.metrics import confusion_matrix"
      ],
      "execution_count": 3,
      "outputs": [
        {
          "output_type": "stream",
          "text": [
            "[nltk_data] Downloading package stopwords to /root/nltk_data...\n",
            "[nltk_data]   Package stopwords is already up-to-date!\n"
          ],
          "name": "stdout"
        }
      ]
    },
    {
      "cell_type": "code",
      "metadata": {
        "id": "ZPSP5102u1_K",
        "colab_type": "code",
        "outputId": "62565374-3987-4b39-e6f9-b799f4b6e7c3",
        "colab": {
          "base_uri": "https://localhost:8080/",
          "height": 51
        }
      },
      "source": [
        "df = pd.read_csv(\"train.csv\")\n",
        "y = df[['toxic','severe_toxic','obscene','threat','insult','identity_hate']]\n",
        "X = pickle.load( open( \"sample_data/dim_reduced_count_vector.pickle\", \"rb\" ) )\n",
        "print(X.shape)\n",
        "print(y.shape)\n",
        "\n",
        "X_train, X_test, y_train, y_test = train_test_split(X, y, test_size=0.33, random_state=42)\n",
        "\n",
        "categories = ['toxic', 'severe_toxic', 'obscene', 'threat', 'insult', 'identity_hate']\n"
      ],
      "execution_count": 4,
      "outputs": [
        {
          "output_type": "stream",
          "text": [
            "(159571, 400)\n",
            "(159571, 6)\n"
          ],
          "name": "stdout"
        }
      ]
    },
    {
      "cell_type": "code",
      "metadata": {
        "id": "8T0qYX9k1UtY",
        "colab_type": "code",
        "outputId": "8246f4ea-b17e-4d91-8237-65ef5136c80d",
        "colab": {
          "base_uri": "https://localhost:8080/",
          "height": 1000
        }
      },
      "source": [
        "print('Training Logistic Regression Pipeline\\n')\n",
        "LogReg_pipeline = Pipeline([\n",
        "                #('tfidf', TfidfVectorizer(stop_words=stop_words)),\n",
        "                ('clf', OneVsRestClassifier(LogisticRegression(max_iter = 400, solver='sag', class_weight='balanced'), n_jobs=1)),\n",
        "            ])\n",
        "for i in range(len(categories)):\n",
        "    print('--------- Training {} ---------\\n'.format(categories[i]))\n",
        "    # train the model using X_dtm & y\n",
        "    LogReg_pipeline.fit(X_train, y_train.iloc[:,i])\n",
        "    # compute the testing accuracy\n",
        "    prediction = LogReg_pipeline.predict(X_test)\n",
        "    print(classification_report(y_test.iloc[:,i], prediction, labels=np.unique(y_test.iloc[:,i])))"
      ],
      "execution_count": 6,
      "outputs": [
        {
          "output_type": "stream",
          "text": [
            "Training Logistic Regression Pipeline\n",
            "\n",
            "--------- Training toxic ---------\n",
            "\n"
          ],
          "name": "stdout"
        },
        {
          "output_type": "stream",
          "text": [
            "/usr/local/lib/python3.6/dist-packages/sklearn/linear_model/_sag.py:330: ConvergenceWarning: The max_iter was reached which means the coef_ did not converge\n",
            "  \"the coef_ did not converge\", ConvergenceWarning)\n"
          ],
          "name": "stderr"
        },
        {
          "output_type": "stream",
          "text": [
            "              precision    recall  f1-score   support\n",
            "\n",
            "           0       0.98      0.84      0.91     47576\n",
            "           1       0.36      0.84      0.50      5083\n",
            "\n",
            "    accuracy                           0.84     52659\n",
            "   macro avg       0.67      0.84      0.70     52659\n",
            "weighted avg       0.92      0.84      0.87     52659\n",
            "\n",
            "--------- Training severe_toxic ---------\n",
            "\n"
          ],
          "name": "stdout"
        },
        {
          "output_type": "stream",
          "text": [
            "/usr/local/lib/python3.6/dist-packages/sklearn/linear_model/_sag.py:330: ConvergenceWarning: The max_iter was reached which means the coef_ did not converge\n",
            "  \"the coef_ did not converge\", ConvergenceWarning)\n"
          ],
          "name": "stderr"
        },
        {
          "output_type": "stream",
          "text": [
            "              precision    recall  f1-score   support\n",
            "\n",
            "           0       1.00      0.97      0.98     52133\n",
            "           1       0.21      0.86      0.34       526\n",
            "\n",
            "    accuracy                           0.97     52659\n",
            "   macro avg       0.60      0.91      0.66     52659\n",
            "weighted avg       0.99      0.97      0.98     52659\n",
            "\n",
            "--------- Training obscene ---------\n",
            "\n"
          ],
          "name": "stdout"
        },
        {
          "output_type": "stream",
          "text": [
            "/usr/local/lib/python3.6/dist-packages/sklearn/linear_model/_sag.py:330: ConvergenceWarning: The max_iter was reached which means the coef_ did not converge\n",
            "  \"the coef_ did not converge\", ConvergenceWarning)\n"
          ],
          "name": "stderr"
        },
        {
          "output_type": "stream",
          "text": [
            "              precision    recall  f1-score   support\n",
            "\n",
            "           0       0.99      0.96      0.97     49828\n",
            "           1       0.52      0.80      0.63      2831\n",
            "\n",
            "    accuracy                           0.95     52659\n",
            "   macro avg       0.76      0.88      0.80     52659\n",
            "weighted avg       0.96      0.95      0.95     52659\n",
            "\n",
            "--------- Training threat ---------\n",
            "\n"
          ],
          "name": "stdout"
        },
        {
          "output_type": "stream",
          "text": [
            "/usr/local/lib/python3.6/dist-packages/sklearn/linear_model/_sag.py:330: ConvergenceWarning: The max_iter was reached which means the coef_ did not converge\n",
            "  \"the coef_ did not converge\", ConvergenceWarning)\n"
          ],
          "name": "stderr"
        },
        {
          "output_type": "stream",
          "text": [
            "              precision    recall  f1-score   support\n",
            "\n",
            "           0       1.00      0.94      0.97     52507\n",
            "           1       0.04      0.78      0.07       152\n",
            "\n",
            "    accuracy                           0.94     52659\n",
            "   macro avg       0.52      0.86      0.52     52659\n",
            "weighted avg       1.00      0.94      0.97     52659\n",
            "\n",
            "--------- Training insult ---------\n",
            "\n"
          ],
          "name": "stdout"
        },
        {
          "output_type": "stream",
          "text": [
            "/usr/local/lib/python3.6/dist-packages/sklearn/linear_model/_sag.py:330: ConvergenceWarning: The max_iter was reached which means the coef_ did not converge\n",
            "  \"the coef_ did not converge\", ConvergenceWarning)\n"
          ],
          "name": "stderr"
        },
        {
          "output_type": "stream",
          "text": [
            "              precision    recall  f1-score   support\n",
            "\n",
            "           0       0.99      0.92      0.95     50016\n",
            "           1       0.35      0.83      0.49      2643\n",
            "\n",
            "    accuracy                           0.91     52659\n",
            "   macro avg       0.67      0.87      0.72     52659\n",
            "weighted avg       0.96      0.91      0.93     52659\n",
            "\n",
            "--------- Training identity_hate ---------\n",
            "\n",
            "              precision    recall  f1-score   support\n",
            "\n",
            "           0       1.00      0.90      0.95     52188\n",
            "           1       0.07      0.85      0.13       471\n",
            "\n",
            "    accuracy                           0.90     52659\n",
            "   macro avg       0.54      0.87      0.54     52659\n",
            "weighted avg       0.99      0.90      0.94     52659\n",
            "\n"
          ],
          "name": "stdout"
        },
        {
          "output_type": "stream",
          "text": [
            "/usr/local/lib/python3.6/dist-packages/sklearn/linear_model/_sag.py:330: ConvergenceWarning: The max_iter was reached which means the coef_ did not converge\n",
            "  \"the coef_ did not converge\", ConvergenceWarning)\n"
          ],
          "name": "stderr"
        }
      ]
    }
  ]
}