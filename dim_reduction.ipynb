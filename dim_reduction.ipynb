{
  "nbformat": 4,
  "nbformat_minor": 0,
  "metadata": {
    "colab": {
      "name": "dim_reduction.ipynb",
      "provenance": []
    },
    "kernelspec": {
      "name": "python3",
      "display_name": "Python 3"
    }
  },
  "cells": [
    {
      "cell_type": "code",
      "metadata": {
        "id": "o-1z4fRpobGa",
        "colab_type": "code",
        "outputId": "858ef526-e6e6-44aa-ab4f-1494a14de579",
        "colab": {
          "base_uri": "https://localhost:8080/",
          "height": 51
        }
      },
      "source": [
        "import pandas as pd\n",
        "import numpy as np\n",
        "import pickle\n",
        "\n",
        "import nltk\n",
        "nltk.download('stopwords')\n",
        "from nltk.corpus import stopwords\n",
        "\n",
        "from sklearn.feature_extraction.text import CountVectorizer\n",
        "from sklearn.feature_extraction.text import TfidfVectorizer\n",
        "from sklearn.decomposition import PCA\n",
        "from sklearn.decomposition import TruncatedSVD\n",
        "\n",
        "import matplotlib.pyplot as plt"
      ],
      "execution_count": 1,
      "outputs": [
        {
          "output_type": "stream",
          "text": [
            "[nltk_data] Downloading package stopwords to /root/nltk_data...\n",
            "[nltk_data]   Unzipping corpora/stopwords.zip.\n"
          ],
          "name": "stdout"
        }
      ]
    },
    {
      "cell_type": "code",
      "metadata": {
        "id": "YEE1fP0Qu2rK",
        "colab_type": "code",
        "outputId": "81108150-0a12-4302-fd61-b4202bb30e34",
        "colab": {
          "base_uri": "https://localhost:8080/",
          "height": 419
        }
      },
      "source": [
        "stops = stopwords.words('english')\n",
        "countVec = CountVectorizer(stop_words=stops, lowercase=True)\n",
        "tfidfVec = TfidfVectorizer(stop_words=stops, lowercase=True)\n",
        "\n",
        "df = pd.read_csv('train.csv')\n",
        "display(df)\n",
        "\n",
        "x = df.comment_text\n",
        "countX = countVec.fit_transform(x)\n",
        "tfidfX = tfidfVec.fit_transform(x)"
      ],
      "execution_count": 4,
      "outputs": [
        {
          "output_type": "display_data",
          "data": {
            "text/html": [
              "<div>\n",
              "<style scoped>\n",
              "    .dataframe tbody tr th:only-of-type {\n",
              "        vertical-align: middle;\n",
              "    }\n",
              "\n",
              "    .dataframe tbody tr th {\n",
              "        vertical-align: top;\n",
              "    }\n",
              "\n",
              "    .dataframe thead th {\n",
              "        text-align: right;\n",
              "    }\n",
              "</style>\n",
              "<table border=\"1\" class=\"dataframe\">\n",
              "  <thead>\n",
              "    <tr style=\"text-align: right;\">\n",
              "      <th></th>\n",
              "      <th>id</th>\n",
              "      <th>comment_text</th>\n",
              "      <th>toxic</th>\n",
              "      <th>severe_toxic</th>\n",
              "      <th>obscene</th>\n",
              "      <th>threat</th>\n",
              "      <th>insult</th>\n",
              "      <th>identity_hate</th>\n",
              "    </tr>\n",
              "  </thead>\n",
              "  <tbody>\n",
              "    <tr>\n",
              "      <th>0</th>\n",
              "      <td>0000997932d777bf</td>\n",
              "      <td>Explanation\\nWhy the edits made under my usern...</td>\n",
              "      <td>0</td>\n",
              "      <td>0</td>\n",
              "      <td>0</td>\n",
              "      <td>0</td>\n",
              "      <td>0</td>\n",
              "      <td>0</td>\n",
              "    </tr>\n",
              "    <tr>\n",
              "      <th>1</th>\n",
              "      <td>000103f0d9cfb60f</td>\n",
              "      <td>D'aww! He matches this background colour I'm s...</td>\n",
              "      <td>0</td>\n",
              "      <td>0</td>\n",
              "      <td>0</td>\n",
              "      <td>0</td>\n",
              "      <td>0</td>\n",
              "      <td>0</td>\n",
              "    </tr>\n",
              "    <tr>\n",
              "      <th>2</th>\n",
              "      <td>000113f07ec002fd</td>\n",
              "      <td>Hey man, I'm really not trying to edit war. It...</td>\n",
              "      <td>0</td>\n",
              "      <td>0</td>\n",
              "      <td>0</td>\n",
              "      <td>0</td>\n",
              "      <td>0</td>\n",
              "      <td>0</td>\n",
              "    </tr>\n",
              "    <tr>\n",
              "      <th>3</th>\n",
              "      <td>0001b41b1c6bb37e</td>\n",
              "      <td>\"\\nMore\\nI can't make any real suggestions on ...</td>\n",
              "      <td>0</td>\n",
              "      <td>0</td>\n",
              "      <td>0</td>\n",
              "      <td>0</td>\n",
              "      <td>0</td>\n",
              "      <td>0</td>\n",
              "    </tr>\n",
              "    <tr>\n",
              "      <th>4</th>\n",
              "      <td>0001d958c54c6e35</td>\n",
              "      <td>You, sir, are my hero. Any chance you remember...</td>\n",
              "      <td>0</td>\n",
              "      <td>0</td>\n",
              "      <td>0</td>\n",
              "      <td>0</td>\n",
              "      <td>0</td>\n",
              "      <td>0</td>\n",
              "    </tr>\n",
              "    <tr>\n",
              "      <th>...</th>\n",
              "      <td>...</td>\n",
              "      <td>...</td>\n",
              "      <td>...</td>\n",
              "      <td>...</td>\n",
              "      <td>...</td>\n",
              "      <td>...</td>\n",
              "      <td>...</td>\n",
              "      <td>...</td>\n",
              "    </tr>\n",
              "    <tr>\n",
              "      <th>159566</th>\n",
              "      <td>ffe987279560d7ff</td>\n",
              "      <td>\":::::And for the second time of asking, when ...</td>\n",
              "      <td>0</td>\n",
              "      <td>0</td>\n",
              "      <td>0</td>\n",
              "      <td>0</td>\n",
              "      <td>0</td>\n",
              "      <td>0</td>\n",
              "    </tr>\n",
              "    <tr>\n",
              "      <th>159567</th>\n",
              "      <td>ffea4adeee384e90</td>\n",
              "      <td>You should be ashamed of yourself \\n\\nThat is ...</td>\n",
              "      <td>0</td>\n",
              "      <td>0</td>\n",
              "      <td>0</td>\n",
              "      <td>0</td>\n",
              "      <td>0</td>\n",
              "      <td>0</td>\n",
              "    </tr>\n",
              "    <tr>\n",
              "      <th>159568</th>\n",
              "      <td>ffee36eab5c267c9</td>\n",
              "      <td>Spitzer \\n\\nUmm, theres no actual article for ...</td>\n",
              "      <td>0</td>\n",
              "      <td>0</td>\n",
              "      <td>0</td>\n",
              "      <td>0</td>\n",
              "      <td>0</td>\n",
              "      <td>0</td>\n",
              "    </tr>\n",
              "    <tr>\n",
              "      <th>159569</th>\n",
              "      <td>fff125370e4aaaf3</td>\n",
              "      <td>And it looks like it was actually you who put ...</td>\n",
              "      <td>0</td>\n",
              "      <td>0</td>\n",
              "      <td>0</td>\n",
              "      <td>0</td>\n",
              "      <td>0</td>\n",
              "      <td>0</td>\n",
              "    </tr>\n",
              "    <tr>\n",
              "      <th>159570</th>\n",
              "      <td>fff46fc426af1f9a</td>\n",
              "      <td>\"\\nAnd ... I really don't think you understand...</td>\n",
              "      <td>0</td>\n",
              "      <td>0</td>\n",
              "      <td>0</td>\n",
              "      <td>0</td>\n",
              "      <td>0</td>\n",
              "      <td>0</td>\n",
              "    </tr>\n",
              "  </tbody>\n",
              "</table>\n",
              "<p>159571 rows × 8 columns</p>\n",
              "</div>"
            ],
            "text/plain": [
              "                      id  ... identity_hate\n",
              "0       0000997932d777bf  ...             0\n",
              "1       000103f0d9cfb60f  ...             0\n",
              "2       000113f07ec002fd  ...             0\n",
              "3       0001b41b1c6bb37e  ...             0\n",
              "4       0001d958c54c6e35  ...             0\n",
              "...                  ...  ...           ...\n",
              "159566  ffe987279560d7ff  ...             0\n",
              "159567  ffea4adeee384e90  ...             0\n",
              "159568  ffee36eab5c267c9  ...             0\n",
              "159569  fff125370e4aaaf3  ...             0\n",
              "159570  fff46fc426af1f9a  ...             0\n",
              "\n",
              "[159571 rows x 8 columns]"
            ]
          },
          "metadata": {
            "tags": []
          }
        }
      ]
    },
    {
      "cell_type": "code",
      "metadata": {
        "id": "vH_kjQwfu5MF",
        "colab_type": "code",
        "outputId": "d7e43bae-beb1-4c21-b30c-372a922d6f1f",
        "colab": {
          "base_uri": "https://localhost:8080/",
          "height": 332
        }
      },
      "source": [
        "n_components = list(range(25,500,25))\n",
        "retained_variance_ratios = []\n",
        "for i in n_components:\n",
        "  TSVD = TruncatedSVD(n_components=i)\n",
        "  principalComponents = TSVD.fit_transform(countX)\n",
        "  retained_variance_ratio = np.sum(TSVD.explained_variance_ratio_)\n",
        "  retained_variance_ratios.append(retained_variance_ratio)\n",
        "\n",
        "print(dict(zip(n_components,retained_variance_ratios)))\n",
        "plt.plot(n_components, retained_variance_ratios, 'bx-') \n",
        "plt.xlabel('# Principal Components') \n",
        "plt.ylabel('Retained Variance Ratio') \n",
        "plt.title('Retained Variance per Principal Component using Counts') \n",
        "plt.show()\n"
      ],
      "execution_count": 0,
      "outputs": [
        {
          "output_type": "stream",
          "text": [
            "{25: 0.487615679616638, 50: 0.6352256487853656, 75: 0.7119260319496954, 100: 0.7582362778142652, 125: 0.7867553535313292, 150: 0.8073002577197739, 175: 0.8212843942006405, 200: 0.8323627969675793, 225: 0.8410648174634303, 250: 0.8480521713331677, 275: 0.8539660889615136, 300: 0.8591228545493746, 325: 0.8637345725347702, 350: 0.8678341460330448, 375: 0.8715774037469125, 400: 0.8750068085270845, 425: 0.8781371369658463, 450: 0.8810399504854625, 475: 0.8837578244027344}\n"
          ],
          "name": "stdout"
        },
        {
          "output_type": "display_data",
          "data": {
            "image/png": "[encoded data removed]",
            "text/plain": [
              "<Figure size 432x288 with 1 Axes>"
            ]
          },
          "metadata": {
            "tags": []
          }
        }
      ]
    },
    {
      "cell_type": "code",
      "metadata": {
        "id": "f_By-1JpzLKT",
        "colab_type": "code",
        "outputId": "58588bc3-87ac-4e4a-f517-4ba19c4fd3c0",
        "colab": {
          "base_uri": "https://localhost:8080/",
          "height": 332
        }
      },
      "source": [
        "n_components = list(range(25,500,25))\n",
        "retained_variance_ratios = []\n",
        "for i in n_components:\n",
        "  TSVD = TruncatedSVD(n_components=i)\n",
        "  principalComponents = TSVD.fit_transform(tfidfX)\n",
        "  retained_variance_ratio = np.sum(TSVD.explained_variance_ratio_)\n",
        "  retained_variance_ratios.append(retained_variance_ratio)\n",
        "\n",
        "print(dict(zip(n_components,retained_variance_ratios)))\n",
        "plt.plot(n_components, retained_variance_ratios, 'bx-') \n",
        "plt.xlabel('# Principal Components') \n",
        "plt.ylabel('Retained Variance Ratio') \n",
        "plt.title('Retained Variance per Principal Component using TFIDF') \n",
        "plt.show() "
      ],
      "execution_count": 0,
      "outputs": [
        {
          "output_type": "stream",
          "text": [
            "{25: 0.052328035234170865, 50: 0.07788518992016878, 75: 0.09806223722370218, 100: 0.11573259761405186, 125: 0.1315135360267699, 150: 0.14575027807137794, 175: 0.15882137524853307, 200: 0.1710056606646177, 225: 0.18221646194868682, 250: 0.1928711726730826, 275: 0.20282441906115245, 300: 0.21214371388944742, 325: 0.22105897816909323, 350: 0.2294857973939744, 375: 0.2375935898091864, 400: 0.24537738123807593, 425: 0.25283032253160664, 450: 0.2600326453377644, 475: 0.26696161042063304}\n"
          ],
          "name": "stdout"
        },
        {
          "output_type": "display_data",
          "data": {
            "image/png": "[encoded data removed]",
            "text/plain": [
              "<Figure size 432x288 with 1 Axes>"
            ]
          },
          "metadata": {
            "tags": []
          }
        }
      ]
    },
    {
      "cell_type": "code",
      "metadata": {
        "colab_type": "code",
        "id": "tkHMx71rf7LU",
        "colab": {}
      },
      "source": [
        "TSVD = TruncatedSVD(n_components=400)\n",
        "principalComponents = TSVD.fit_transform(countX)\n"
      ],
      "execution_count": 0,
      "outputs": []
    },
    {
      "cell_type": "code",
      "metadata": {
        "id": "IGWIgclRf8GF",
        "colab_type": "code",
        "colab": {}
      },
      "source": [
        "f=open('dim_reduced_count_vector.pickle','wb')\n",
        "pickle.dump(principalComponents, f)\n",
        "f.close()"
      ],
      "execution_count": 0,
      "outputs": []
    }
  ]
}