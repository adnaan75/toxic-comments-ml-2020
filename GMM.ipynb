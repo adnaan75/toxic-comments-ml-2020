{
 "cells": [
  {
   "cell_type": "code",
   "execution_count": 255,
   "metadata": {
    "scrolled": true
   },
   "outputs": [
    {
     "data": {
      "text/html": [
       "<div>\n",
       "<style scoped>\n",
       "    .dataframe tbody tr th:only-of-type {\n",
       "        vertical-align: middle;\n",
       "    }\n",
       "\n",
       "    .dataframe tbody tr th {\n",
       "        vertical-align: top;\n",
       "    }\n",
       "\n",
       "    .dataframe thead th {\n",
       "        text-align: right;\n",
       "    }\n",
       "</style>\n",
       "<table border=\"1\" class=\"dataframe\">\n",
       "  <thead>\n",
       "    <tr style=\"text-align: right;\">\n",
       "      <th></th>\n",
       "      <th>id</th>\n",
       "      <th>comment_text</th>\n",
       "    </tr>\n",
       "  </thead>\n",
       "  <tbody>\n",
       "    <tr>\n",
       "      <td>0</td>\n",
       "      <td>00001cee341fdb12</td>\n",
       "      <td>Yo bitch Ja Rule is more succesful then you'll...</td>\n",
       "    </tr>\n",
       "    <tr>\n",
       "      <td>1</td>\n",
       "      <td>0000247867823ef7</td>\n",
       "      <td>== From RfC == \\n\\n The title is fine as it is...</td>\n",
       "    </tr>\n",
       "    <tr>\n",
       "      <td>2</td>\n",
       "      <td>00013b17ad220c46</td>\n",
       "      <td>\" \\n\\n == Sources == \\n\\n * Zawe Ashton on Lap...</td>\n",
       "    </tr>\n",
       "    <tr>\n",
       "      <td>3</td>\n",
       "      <td>00017563c3f7919a</td>\n",
       "      <td>:If you have a look back at the source, the in...</td>\n",
       "    </tr>\n",
       "    <tr>\n",
       "      <td>4</td>\n",
       "      <td>00017695ad8997eb</td>\n",
       "      <td>I don't anonymously edit articles at all.</td>\n",
       "    </tr>\n",
       "    <tr>\n",
       "      <td>...</td>\n",
       "      <td>...</td>\n",
       "      <td>...</td>\n",
       "    </tr>\n",
       "    <tr>\n",
       "      <td>153159</td>\n",
       "      <td>fffcd0960ee309b5</td>\n",
       "      <td>. \\n i totally agree, this stuff is nothing bu...</td>\n",
       "    </tr>\n",
       "    <tr>\n",
       "      <td>153160</td>\n",
       "      <td>fffd7a9a6eb32c16</td>\n",
       "      <td>== Throw from out field to home plate. == \\n\\n...</td>\n",
       "    </tr>\n",
       "    <tr>\n",
       "      <td>153161</td>\n",
       "      <td>fffda9e8d6fafa9e</td>\n",
       "      <td>\" \\n\\n == Okinotorishima categories == \\n\\n I ...</td>\n",
       "    </tr>\n",
       "    <tr>\n",
       "      <td>153162</td>\n",
       "      <td>fffe8f1340a79fc2</td>\n",
       "      <td>\" \\n\\n == \"\"One of the founding nations of the...</td>\n",
       "    </tr>\n",
       "    <tr>\n",
       "      <td>153163</td>\n",
       "      <td>ffffce3fb183ee80</td>\n",
       "      <td>\" \\n :::Stop already. Your bullshit is not wel...</td>\n",
       "    </tr>\n",
       "  </tbody>\n",
       "</table>\n",
       "<p>153164 rows × 2 columns</p>\n",
       "</div>"
      ],
      "text/plain": [
       "                      id                                       comment_text\n",
       "0       00001cee341fdb12  Yo bitch Ja Rule is more succesful then you'll...\n",
       "1       0000247867823ef7  == From RfC == \\n\\n The title is fine as it is...\n",
       "2       00013b17ad220c46  \" \\n\\n == Sources == \\n\\n * Zawe Ashton on Lap...\n",
       "3       00017563c3f7919a  :If you have a look back at the source, the in...\n",
       "4       00017695ad8997eb          I don't anonymously edit articles at all.\n",
       "...                  ...                                                ...\n",
       "153159  fffcd0960ee309b5  . \\n i totally agree, this stuff is nothing bu...\n",
       "153160  fffd7a9a6eb32c16  == Throw from out field to home plate. == \\n\\n...\n",
       "153161  fffda9e8d6fafa9e  \" \\n\\n == Okinotorishima categories == \\n\\n I ...\n",
       "153162  fffe8f1340a79fc2  \" \\n\\n == \"\"One of the founding nations of the...\n",
       "153163  ffffce3fb183ee80  \" \\n :::Stop already. Your bullshit is not wel...\n",
       "\n",
       "[153164 rows x 2 columns]"
      ]
     },
     "metadata": {},
     "output_type": "display_data"
    }
   ],
   "source": [
    "import pandas as pd\n",
    "import numpy as np\n",
    "from nltk.corpus import stopwords\n",
    "\n",
    "from sklearn.feature_extraction.text import CountVectorizer, TfidfVectorizer\n",
    "from sklearn.feature_selection import SelectKBest, chi2\n",
    "from sklearn.model_selection import train_test_split\n",
    "from sklearn.metrics import accuracy_score\n",
    "from sklearn.metrics import f1_score\n",
    "from sklearn.metrics import roc_auc_score \n",
    "from sklearn.metrics import average_precision_score\n",
    "from sklearn.metrics import recall_score\n",
    "from sklearn import metrics\n",
    "from sklearn.cluster import DBSCAN\n",
    "\n",
    "\n",
    "%matplotlib inline\n",
    "import matplotlib.pyplot as plt\n",
    "from sklearn.mixture import GaussianMixture\n",
    "from sklearn.decomposition import TruncatedSVD, PCA\n",
    "\n",
    "stops = stopwords.words('english')\n",
    "\n",
    "vectorizer = TfidfVectorizer(stop_words=stops, lowercase=True)\n",
    "train_df = pd.read_csv('./jigsaw-toxic-comment-classification-challenge/train.csv')\n",
    "test_df = pd.read_csv(\"./jigsaw-toxic-comment-classification-challenge/test.csv\")\n",
    "train_df['comment_text'].fillna(\"unknown\", inplace=True)\n",
    "test_df['comment_text'].fillna(\"unknown\", inplace=True)\n",
    "display(test_df)\n",
    "\n",
    "y_istoxic = train_df.toxic # used for binary classification\n",
    "y = train_df[['severe_toxic','obscene','threat','insult','identity_hate']].values\n",
    "y_typetoxic = np.zeros((y_istoxic.shape[0])) # used for many classes\n",
    "for i in np.arange(y.shape[1]):\n",
    "    y_typetoxic[y[:, i] == 1] = i+1\n",
    "x = train_df.comment_text\n",
    "x = vectorizer.fit_transform(x)\n",
    "\n",
    "def get_score(y_val, pred):\n",
    "    accuracy = accuracy_score(y_val, pred)\n",
    "    f1 = f1_score(y_val, pred,average='macro')\n",
    "    precision = average_precision_score(y_val, pred,average='macro')\n",
    "    print(\"accuracy: \", accuracy)\n",
    "    print(\"f1: \",f1)\n",
    "    print(\"precision: \",precision)\n",
    "    return accuracy"
   ]
  },
  {
   "cell_type": "code",
   "execution_count": 246,
   "metadata": {},
   "outputs": [],
   "source": [
    "\n",
    "import pickle\n",
    "\n",
    "with open('ubt_vectorized_train.pickle', 'rb') as f:\n",
    "    unigrams = pickle.load(f)\n",
    "with open('ubt_vectorized_bigrams.pickle', 'rb') as f:\n",
    "    bigrams = pickle.load(f)"
   ]
  },
  {
   "cell_type": "code",
   "execution_count": 247,
   "metadata": {},
   "outputs": [],
   "source": [
    "# feature selection\n",
    "xnew = SelectKBest(chi2, k=500).fit_transform(x, y_istoxic)\n",
    "xnew\n",
    "# vx = pca.fit_transform(x)\n",
    "# # # print(pca.explained_variance_ratio_)\n",
    "dense = xnew.todense()\n"
   ]
  },
  {
   "cell_type": "code",
   "execution_count": 248,
   "metadata": {},
   "outputs": [
    {
     "name": "stdout",
     "output_type": "stream",
     "text": [
      "{'covariance_type': 'full', 'init_params': 'kmeans', 'max_iter': 100, 'means_init': None, 'n_components': 2, 'n_init': 1, 'precisions_init': None, 'random_state': None, 'reg_covar': 1e-06, 'tol': 0.001, 'verbose': 0, 'verbose_interval': 10, 'warm_start': False, 'weights_init': None}\n",
      "[0 1]\n",
      "(31915, 1) (31915,)\n",
      "Number of mislabeled points out of a total %d points : %d (31915, 2320)\n",
      "accuracy:  0.9273069089769701\n",
      "f1:  0.7988307411084322\n",
      "precision:  0.45283811852835176\n"
     ]
    },
    {
     "data": {
      "text/plain": [
       "0.9273069089769701"
      ]
     },
     "execution_count": 248,
     "metadata": {},
     "output_type": "execute_result"
    }
   ],
   "source": [
    "model = GaussianMixture(n_components=2)\n",
    "\n",
    "x_train, x_test, y_train, y_test = train_test_split(dense, y_istoxic, test_size=0.2)\n",
    "print(model.get_params())\n",
    "y_pred = model.fit(x_train, y_train).predict(x_test)\n",
    "print(np.unique(y_pred))\n",
    "print(x_test[:, 0].shape, y_pred.shape)\n",
    "# print(\"Train score: \", model.score(x_train, y_train))\n",
    "# print(\"Eval score: \", model.score(x_test, y_test))\n",
    "print(\"Number of mislabeled points out of a total %d points : %d\", (x_test.shape[0], (y_test != y_pred).sum()))\n",
    "get_score(y_pred, y_test) #only for binary classification"
   ]
  },
  {
   "cell_type": "code",
   "execution_count": 253,
   "metadata": {
    "scrolled": false
   },
   "outputs": [
    {
     "name": "stdout",
     "output_type": "stream",
     "text": [
      "this is for 100 features.\n",
      "accuracy:  0.0936550211499295\n",
      "f1:  0.08975519369832383\n",
      "precision:  0.08405160889454874\n",
      "this is for 200 features.\n",
      "accuracy:  0.08785837380542065\n",
      "f1:  0.08637958503047062\n",
      "precision:  0.07598285246171713\n",
      "this is for 300 features.\n",
      "accuracy:  0.1032116559611468\n",
      "f1:  0.10309880092079463\n",
      "precision:  0.07386183088141632\n",
      "this is for 400 features.\n",
      "accuracy:  0.09462635124549584\n",
      "f1:  0.0941576067448397\n",
      "precision:  0.07616896104301374\n",
      "this is for 500 features.\n",
      "accuracy:  0.08710637631207896\n",
      "f1:  0.08674141618193965\n",
      "precision:  0.07421454686695159\n"
     ]
    }
   ],
   "source": [
    "# choosing some number of features, figuring out which is best.\n",
    "num_features = x.shape[1]\n",
    "dense = xnew.todense()\n",
    "for i in np.arange(5)*100+100:\n",
    "    feats = i\n",
    "    model = GaussianMixture(n_components=2)\n",
    "    x_train, x_test, y_train, y_test = train_test_split(dense[:, :i], y_istoxic, test_size=0.2)\n",
    "    y_pred = model.fit(x_train, y_train).predict(x_test)\n",
    "    print(\"this is for \"+str(i)+\" features.\")\n",
    "#     print(\"Train score: \", model.score(x_train, y_train))\n",
    "#     print(\"Eval score: \", model.score(x_test, y_test))\n",
    "    get_score(y_test, y_pred) # only to be used in binary classification"
   ]
  },
  {
   "cell_type": "code",
   "execution_count": 256,
   "metadata": {},
   "outputs": [
    {
     "data": {
      "text/plain": [
       "(159571, 171)"
      ]
     },
     "execution_count": 256,
     "metadata": {},
     "output_type": "execute_result"
    }
   ],
   "source": [
    "pca = PCA(0.9)\n",
    "data = pca.fit_transform(dense) #right now just doing it on the SelectKBest 500 features, otherwise it is too big\n",
    "data.shape"
   ]
  },
  {
   "cell_type": "code",
   "execution_count": 260,
   "metadata": {},
   "outputs": [
    {
     "data": {
      "image/png": "[encoded data removed]",
      "text/plain": [
       "<Figure size 432x288 with 1 Axes>"
      ]
     },
     "metadata": {
      "needs_background": "light"
     },
     "output_type": "display_data"
    }
   ],
   "source": [
    "n_components = np.arange(2, 10)\n",
    "models = [GaussianMixture(n, covariance_type='spherical', random_state=0) #spherical to make calcs less complex\n",
    "          for n in n_components]\n",
    "aics = [model.fit(data).aic(data) for model in models]\n",
    "plt.plot(n_components, aics);"
   ]
  },
  {
   "cell_type": "code",
   "execution_count": 261,
   "metadata": {},
   "outputs": [
    {
     "name": "stdout",
     "output_type": "stream",
     "text": [
      "True\n"
     ]
    }
   ],
   "source": [
    "gmm = GaussianMixture(8, covariance_type='full', random_state=0)\n",
    "gmm.fit(data)\n",
    "print(gmm.converged_)"
   ]
  },
  {
   "cell_type": "code",
   "execution_count": null,
   "metadata": {},
   "outputs": [],
   "source": []
  }
 ],
 "metadata": {
  "kernelspec": {
   "display_name": "Python 3",
   "language": "python",
   "name": "python3"
  },
  "language_info": {
   "codemirror_mode": {
    "name": "ipython",
    "version": 3
   },
   "file_extension": ".py",
   "mimetype": "text/x-python",
   "name": "python",
   "nbconvert_exporter": "python",
   "pygments_lexer": "ipython3",
   "version": "3.7.4"
  }
 },
 "nbformat": 4,
 "nbformat_minor": 2
}
