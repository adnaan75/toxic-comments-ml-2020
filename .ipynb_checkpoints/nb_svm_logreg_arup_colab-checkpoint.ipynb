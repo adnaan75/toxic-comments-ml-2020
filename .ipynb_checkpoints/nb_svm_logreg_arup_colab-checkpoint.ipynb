{
 "cells": [
  {
   "cell_type": "code",
   "execution_count": 1,
   "metadata": {
    "colab": {
     "base_uri": "https://localhost:8080/",
     "height": 34
    },
    "colab_type": "code",
    "id": "hyf6bEO05BZf",
    "outputId": "cb0071b0-0009-43e8-e773-17a5826a28ca"
   },
   "outputs": [
    {
     "ename": "ModuleNotFoundError",
     "evalue": "No module named 'tensorflow'",
     "output_type": "error",
     "traceback": [
      "\u001b[0;31m---------------------------------------------------------------------------\u001b[0m",
      "\u001b[0;31mModuleNotFoundError\u001b[0m                       Traceback (most recent call last)",
      "\u001b[0;32m<ipython-input-1-14a8ea79f8e9>\u001b[0m in \u001b[0;36m<module>\u001b[0;34m\u001b[0m\n\u001b[0;32m----> 1\u001b[0;31m \u001b[0;32mimport\u001b[0m \u001b[0mtensorflow\u001b[0m \u001b[0;32mas\u001b[0m \u001b[0mtf\u001b[0m\u001b[0;34m\u001b[0m\u001b[0;34m\u001b[0m\u001b[0m\n\u001b[0m\u001b[1;32m      2\u001b[0m \u001b[0mtf\u001b[0m\u001b[0;34m.\u001b[0m\u001b[0mtest\u001b[0m\u001b[0;34m.\u001b[0m\u001b[0mgpu_device_name\u001b[0m\u001b[0;34m(\u001b[0m\u001b[0;34m)\u001b[0m\u001b[0;34m\u001b[0m\u001b[0;34m\u001b[0m\u001b[0m\n",
      "\u001b[0;31mModuleNotFoundError\u001b[0m: No module named 'tensorflow'"
     ]
    }
   ],
   "source": [
    "import tensorflow as tf\n",
    "tf.test.gpu_device_name()"
   ]
  },
  {
   "cell_type": "code",
   "execution_count": 1,
   "metadata": {
    "colab": {},
    "colab_type": "code",
    "id": "oii90RZDk8VZ"
   },
   "outputs": [
    {
     "name": "stdout",
     "output_type": "stream",
     "text": [
      "Requirement already satisfied: seaborn in /home/raceking99/.local/lib/python3.7/site-packages (0.10.0)\n",
      "Requirement already satisfied: scipy>=1.0.1 in /home/raceking99/.local/lib/python3.7/site-packages (from seaborn) (1.3.1)\n",
      "Requirement already satisfied: numpy>=1.13.3 in /home/raceking99/.local/lib/python3.7/site-packages (from seaborn) (1.17.1)\n",
      "Requirement already satisfied: matplotlib>=2.1.2 in /home/raceking99/.local/lib/python3.7/site-packages (from seaborn) (3.1.1)\n",
      "Requirement already satisfied: pandas>=0.22.0 in /home/raceking99/.local/lib/python3.7/site-packages (from seaborn) (1.0.1)\n",
      "Requirement already satisfied: kiwisolver>=1.0.1 in /home/raceking99/.local/lib/python3.7/site-packages (from matplotlib>=2.1.2->seaborn) (1.1.0)\n",
      "Requirement already satisfied: python-dateutil>=2.1 in /home/raceking99/.local/lib/python3.7/site-packages (from matplotlib>=2.1.2->seaborn) (2.8.0)\n",
      "Requirement already satisfied: pyparsing!=2.0.4,!=2.1.2,!=2.1.6,>=2.0.1 in /home/raceking99/.local/lib/python3.7/site-packages (from matplotlib>=2.1.2->seaborn) (2.4.2)\n",
      "Requirement already satisfied: cycler>=0.10 in /home/raceking99/.local/lib/python3.7/site-packages (from matplotlib>=2.1.2->seaborn) (0.10.0)\n",
      "Requirement already satisfied: pytz>=2017.2 in /home/raceking99/.local/lib/python3.7/site-packages (from pandas>=0.22.0->seaborn) (2019.3)\n",
      "Requirement already satisfied: setuptools in /usr/lib/python3/dist-packages (from kiwisolver>=1.0.1->matplotlib>=2.1.2->seaborn) (40.8.0)\n",
      "Requirement already satisfied: six>=1.5 in /home/raceking99/.local/lib/python3.7/site-packages (from python-dateutil>=2.1->matplotlib>=2.1.2->seaborn) (1.12.0)\n"
     ]
    }
   ],
   "source": [
    "# !python3 --version\n",
    "# !pip --version\n",
    "\n",
    "# References:\n",
    "# https://towardsdatascience.com/multi-label-text-classification-with-scikit-learn-30714b7819c5\n",
    "\n",
    "\n",
    "# UNCOMMENT THE BELOW IMPORTS IF YOU ARE NOT USING THE COLAB GPU OR IF YOU GET IMPORT ERRORS\n",
    "\n",
    "# !pip3 install re \n",
    "# !pip3 install matplotlib \n",
    "# !pip3 install numpy \n",
    "# !pip3 install pandas \n",
    "# !pip3 install scikit-learn \n",
    "# !pip3 install nltk \n",
    "!pip3 install seaborn\n"
   ]
  },
  {
   "cell_type": "code",
   "execution_count": 16,
   "metadata": {
    "colab": {
     "base_uri": "https://localhost:8080/",
     "height": 85
    },
    "colab_type": "code",
    "id": "picKhQCmkoBD",
    "outputId": "bee0aeac-efb3-4129-8189-2aeaaf82b0df"
   },
   "outputs": [
    {
     "name": "stdout",
     "output_type": "stream",
     "text": [
      "Stopwords have finished downloading successfully\n",
      "All imports were successful\n"
     ]
    },
    {
     "name": "stderr",
     "output_type": "stream",
     "text": [
      "[nltk_data] Downloading package stopwords to\n",
      "[nltk_data]     /home/raceking99/nltk_data...\n",
      "[nltk_data]   Package stopwords is already up-to-date!\n"
     ]
    }
   ],
   "source": [
    "%matplotlib inline\n",
    "import re\n",
    "import matplotlib\n",
    "import numpy as np\n",
    "import matplotlib.pyplot as plt\n",
    "import pandas as pd\n",
    "import nltk\n",
    "nltk.download('stopwords')\n",
    "print('Stopwords have finished downloading successfully')\n",
    "from sklearn.model_selection import train_test_split\n",
    "from sklearn.feature_extraction.text import TfidfVectorizer\n",
    "from sklearn.naive_bayes import MultinomialNB\n",
    "from sklearn.metrics import accuracy_score, classification_report\n",
    "from sklearn.multiclass import OneVsRestClassifier\n",
    "from nltk.corpus import stopwords\n",
    "stop_words = set(stopwords.words('english'))\n",
    "from sklearn.svm import LinearSVC\n",
    "from sklearn.linear_model import LogisticRegression\n",
    "from sklearn.pipeline import Pipeline\n",
    "import seaborn as sns\n",
    "print('All imports were successful')"
   ]
  },
  {
   "cell_type": "code",
   "execution_count": 3,
   "metadata": {
    "colab": {
     "base_uri": "https://localhost:8080/",
     "height": 289
    },
    "colab_type": "code",
    "id": "l4y2pMcqoBbq",
    "outputId": "33e80c79-0776-4805-f6f2-27f6c5402b96"
   },
   "outputs": [
    {
     "name": "stdout",
     "output_type": "stream",
     "text": [
      "The first 5 elements in the train.csv are:\n",
      "                 id                                       comment_text  toxic  \\\n",
      "0  0000997932d777bf  Explanation\\nWhy the edits made under my usern...      0   \n",
      "1  000103f0d9cfb60f  D'aww! He matches this background colour I'm s...      0   \n",
      "2  000113f07ec002fd  Hey man, I'm really not trying to edit war. It...      0   \n",
      "3  0001b41b1c6bb37e  \"\\nMore\\nI can't make any real suggestions on ...      0   \n",
      "4  0001d958c54c6e35  You, sir, are my hero. Any chance you remember...      0   \n",
      "\n",
      "   severe_toxic  obscene  threat  insult  identity_hate  \n",
      "0             0        0       0       0              0  \n",
      "1             0        0       0       0              0  \n",
      "2             0        0       0       0              0  \n",
      "3             0        0       0       0              0  \n",
      "4             0        0       0       0              0  \n",
      "        category  number_of_comments\n",
      "0          toxic               15294\n",
      "1   severe_toxic                1595\n",
      "2        obscene                8449\n",
      "3         threat                 478\n",
      "4         insult                7877\n",
      "5  identity_hate                1405\n"
     ]
    }
   ],
   "source": [
    "df = pd.read_csv(\"./train.csv\", encoding = \"ISO-8859-1\")\n",
    "print('The first 5 elements in the train.csv are:')\n",
    "print(df.head())\n",
    "\n",
    "# Getting the number of comments in each category\n",
    "df_toxic = df.drop(['id', 'comment_text'], axis=1)\n",
    "counts = []\n",
    "categories = list(df_toxic.columns.values)\n",
    "for i in categories:\n",
    "    counts.append((i, df_toxic[i].sum()))\n",
    "df_stats = pd.DataFrame(counts, columns=['category', 'number_of_comments'])\n",
    "print(df_stats)"
   ]
  },
  {
   "cell_type": "code",
   "execution_count": 4,
   "metadata": {
    "colab": {
     "base_uri": "https://localhost:8080/",
     "height": 425
    },
    "colab_type": "code",
    "id": "uKGU0e7RsD0h",
    "outputId": "b0c2bddc-4ff5-4114-87d2-e18a41246432"
   },
   "outputs": [
    {
     "data": {
      "text/plain": [
       "Text(0.5, 0, 'Category')"
      ]
     },
     "execution_count": 4,
     "metadata": {},
     "output_type": "execute_result"
    },
    {
     "data": {
      "image/png": "[encoded data removed]",
      "text/plain": [
       "<Figure size 576x360 with 1 Axes>"
      ]
     },
     "metadata": {
      "needs_background": "light"
     },
     "output_type": "display_data"
    }
   ],
   "source": [
    "# Getting a histogram of the categories\n",
    "my_colors = ['b', 'r', 'g', 'y', 'k', 'm']\n",
    "df_stats.plot(x='category', y='number_of_comments', kind='bar', legend=False, grid=True, figsize=(8, 5), color=my_colors)\n",
    "\n",
    "plt.title(\"Number of comments per category\")\n",
    "plt.ylabel('# of Occurrences', fontsize=12)\n",
    "plt.xlabel('Category', fontsize=12)\n",
    "# plt.show()"
   ]
  },
  {
   "cell_type": "code",
   "execution_count": 5,
   "metadata": {
    "colab": {
     "base_uri": "https://localhost:8080/",
     "height": 370
    },
    "colab_type": "code",
    "id": "gxgnEGCJsFz2",
    "outputId": "60ec03df-b336-4260-e236-6816a5dd1227"
   },
   "outputs": [
    {
     "data": {
      "text/plain": [
       "Text(0.5, 0, '# of Categories')"
      ]
     },
     "execution_count": 5,
     "metadata": {},
     "output_type": "execute_result"
    },
    {
     "data": {
      "image/png": "[encoded data removed]",
      "text/plain": [
       "<Figure size 576x360 with 1 Axes>"
      ]
     },
     "metadata": {
      "needs_background": "light"
     },
     "output_type": "display_data"
    }
   ],
   "source": [
    "# How many comments have multi-labels?\n",
    "rowsums = df.iloc[:,2:].sum(axis=1)\n",
    "x=rowsums.value_counts()\n",
    "#plot\n",
    "plt.figure(figsize=(8,5))\n",
    "ax = sns.barplot(x.index, x.values)\n",
    "plt.title(\"Multiple categories per comment\")\n",
    "plt.ylabel('# of Occurrences', fontsize=12)\n",
    "plt.xlabel('# of Categories', fontsize=12)"
   ]
  },
  {
   "cell_type": "code",
   "execution_count": 6,
   "metadata": {
    "colab": {
     "base_uri": "https://localhost:8080/",
     "height": 51
    },
    "colab_type": "code",
    "id": "xA0VkBh5sJOW",
    "outputId": "dbfad696-fe7c-43b0-d3e8-84c4accfdf7e"
   },
   "outputs": [
    {
     "name": "stdout",
     "output_type": "stream",
     "text": [
      "Percentage of comments that are not labelled:\n",
      "0.8983211235124177\n"
     ]
    }
   ],
   "source": [
    "# How many comments are unlabeled\n",
    "print('Percentage of comments that are not labelled:')\n",
    "print(len(df[(df['toxic']==0) & (df['severe_toxic']==0) & (df['obscene']==0) & (df['threat']== 0) & (df['insult']==0) & (df['identity_hate']==0)]) / len(df))\n"
   ]
  },
  {
   "cell_type": "code",
   "execution_count": 22,
   "metadata": {
    "colab": {
     "base_uri": "https://localhost:8080/",
     "height": 51
    },
    "colab_type": "code",
    "id": "7w7NT134sN-g",
    "outputId": "0c45666c-97a7-4507-e7c6-2d0b4032a2a9"
   },
   "outputs": [
    {
     "name": "stdout",
     "output_type": "stream",
     "text": [
      "train shape is (106912,)\n",
      "test shape is (52659,)\n"
     ]
    }
   ],
   "source": [
    "# Function for cleaning the comment text\n",
    "def clean_text(text):\n",
    "    text = text.lower()\n",
    "    text = re.sub(r\"what's\", \"what is \", text)\n",
    "    text = re.sub(r\"\\'s\", \" \", text)\n",
    "    text = re.sub(r\"\\'ve\", \" have \", text)\n",
    "    text = re.sub(r\"can't\", \"can not \", text)\n",
    "    text = re.sub(r\"n't\", \" not \", text)\n",
    "    text = re.sub(r\"i'm\", \"i am \", text)\n",
    "    text = re.sub(r\"\\'re\", \" are \", text)\n",
    "    text = re.sub(r\"\\'d\", \" would \", text)\n",
    "    text = re.sub(r\"\\'ll\", \" will \", text)\n",
    "    text = re.sub(r\"\\'scuse\", \" excuse \", text)\n",
    "    text = re.sub('\\W', ' ', text)\n",
    "    text = re.sub('\\s+', ' ', text)\n",
    "    text = text.strip(' ')\n",
    "    return text\n",
    "\n",
    "# Use the helper function to clean the text\n",
    "df['comment_text'] = df['comment_text'].map(lambda comment : clean_text(comment))\n",
    "# print(df['comment_text'][0])\n",
    "\n",
    "# Splitting the data into train and test sets\n",
    "categories = ['toxic', 'severe_toxic', 'obscene', 'threat', 'insult', 'identity_hate']\n",
    "train, test = train_test_split(df, random_state=42, test_size=0.33, shuffle=True)\n",
    "X_train = train.comment_text\n",
    "X_test = test.comment_text\n",
    "print('train shape is', X_train.shape)\n",
    "print('test shape is', X_test.shape)"
   ]
  },
  {
   "cell_type": "code",
   "execution_count": 26,
   "metadata": {
    "colab": {
     "base_uri": "https://localhost:8080/",
     "height": 238
    },
    "colab_type": "code",
    "id": "g1VmWCuusV1u",
    "outputId": "a94f65ea-39d3-40a4-cca9-0b390df76261"
   },
   "outputs": [
    {
     "name": "stdout",
     "output_type": "stream",
     "text": [
      "Training Naive Bayes Pipeline\n",
      "\n",
      "--------- Training toxic ---------\n",
      "\n",
      "              precision    recall  f1-score   support\n",
      "\n",
      "           0       0.92      1.00      0.96     47576\n",
      "           1       0.99      0.16      0.28      5083\n",
      "\n",
      "    accuracy                           0.92     52659\n",
      "   macro avg       0.95      0.58      0.62     52659\n",
      "weighted avg       0.93      0.92      0.89     52659\n",
      "\n",
      "--------- Training severe_toxic ---------\n",
      "\n"
     ]
    },
    {
     "name": "stderr",
     "output_type": "stream",
     "text": [
      "/home/raceking99/.local/lib/python3.7/site-packages/sklearn/metrics/_classification.py:1272: UndefinedMetricWarning: Precision and F-score are ill-defined and being set to 0.0 in labels with no predicted samples. Use `zero_division` parameter to control this behavior.\n",
      "  _warn_prf(average, modifier, msg_start, len(result))\n"
     ]
    },
    {
     "name": "stdout",
     "output_type": "stream",
     "text": [
      "              precision    recall  f1-score   support\n",
      "\n",
      "           0       0.99      1.00      0.99     52133\n",
      "           1       0.00      0.00      0.00       526\n",
      "\n",
      "    accuracy                           0.99     52659\n",
      "   macro avg       0.50      0.50      0.50     52659\n",
      "weighted avg       0.98      0.99      0.99     52659\n",
      "\n",
      "--------- Training obscene ---------\n",
      "\n",
      "              precision    recall  f1-score   support\n",
      "\n",
      "           0       0.95      1.00      0.98     49828\n",
      "           1       0.99      0.10      0.18      2831\n",
      "\n",
      "    accuracy                           0.95     52659\n",
      "   macro avg       0.97      0.55      0.58     52659\n",
      "weighted avg       0.95      0.95      0.93     52659\n",
      "\n",
      "--------- Training threat ---------\n",
      "\n"
     ]
    },
    {
     "name": "stderr",
     "output_type": "stream",
     "text": [
      "/home/raceking99/.local/lib/python3.7/site-packages/sklearn/metrics/_classification.py:1272: UndefinedMetricWarning: Precision and F-score are ill-defined and being set to 0.0 in labels with no predicted samples. Use `zero_division` parameter to control this behavior.\n",
      "  _warn_prf(average, modifier, msg_start, len(result))\n"
     ]
    },
    {
     "name": "stdout",
     "output_type": "stream",
     "text": [
      "              precision    recall  f1-score   support\n",
      "\n",
      "           0       1.00      1.00      1.00     52507\n",
      "           1       0.00      0.00      0.00       152\n",
      "\n",
      "    accuracy                           1.00     52659\n",
      "   macro avg       0.50      0.50      0.50     52659\n",
      "weighted avg       0.99      1.00      1.00     52659\n",
      "\n",
      "--------- Training insult ---------\n",
      "\n",
      "              precision    recall  f1-score   support\n",
      "\n",
      "           0       0.95      1.00      0.98     50016\n",
      "           1       0.98      0.04      0.07      2643\n",
      "\n",
      "    accuracy                           0.95     52659\n",
      "   macro avg       0.97      0.52      0.53     52659\n",
      "weighted avg       0.95      0.95      0.93     52659\n",
      "\n",
      "--------- Training identity_hate ---------\n",
      "\n",
      "              precision    recall  f1-score   support\n",
      "\n",
      "           0       0.99      1.00      1.00     52188\n",
      "           1       0.00      0.00      0.00       471\n",
      "\n",
      "    accuracy                           0.99     52659\n",
      "   macro avg       0.50      0.50      0.50     52659\n",
      "weighted avg       0.98      0.99      0.99     52659\n",
      "\n"
     ]
    },
    {
     "name": "stderr",
     "output_type": "stream",
     "text": [
      "/home/raceking99/.local/lib/python3.7/site-packages/sklearn/metrics/_classification.py:1272: UndefinedMetricWarning: Precision and F-score are ill-defined and being set to 0.0 in labels with no predicted samples. Use `zero_division` parameter to control this behavior.\n",
      "  _warn_prf(average, modifier, msg_start, len(result))\n"
     ]
    }
   ],
   "source": [
    "from sklearn.utils.class_weight import compute_class_weight\n",
    "class_weights = compute_class_weight('balanced', np.unique(test), test)\n",
    "\n",
    "# Define a pipeline combining a text feature extractor with multi lable classifier\n",
    "# 1. Naive Bayes Pipeline\n",
    "#    This is essentially a Naive Bayes, but we pass the NB model into a OneVsRestClassifier,\n",
    "#    which is one of the methods we can use for datasets with multiple labels\n",
    "print('Training Naive Bayes Pipeline\\n')\n",
    "NB_pipeline = Pipeline([\n",
    "                ('tfidf', TfidfVectorizer(stop_words=stop_words)),\n",
    "                ('clf', OneVsRestClassifier(MultinomialNB(\n",
    "                    fit_prior=True, class_prior=None))),\n",
    "            ])\n",
    "for category in categories:\n",
    "    print('--------- Training {} ---------\\n'.format(category))\n",
    "    # train the model using X_dtm & y\n",
    "    NB_pipeline.fit(X_train, train[category])\n",
    "    # compute the testing accuracy\n",
    "    prediction = NB_pipeline.predict(X_test)\n",
    "    print(classification_report(test[category], prediction, labels=np.unique(test[category])))\n",
    "#     print(prediction.head())\n",
    "#     print(prediction)"
   ]
  },
  {
   "cell_type": "code",
   "execution_count": 28,
   "metadata": {
    "colab": {
     "base_uri": "https://localhost:8080/",
     "height": 238
    },
    "colab_type": "code",
    "id": "x6C0npvhsYO4",
    "outputId": "9c391039-cdf0-469d-87fe-c311948b0094"
   },
   "outputs": [
    {
     "name": "stdout",
     "output_type": "stream",
     "text": [
      "Training Linear SVC Pipeline\n",
      "... Training toxic\n",
      "              precision    recall  f1-score   support\n",
      "\n",
      "           0       0.98      0.97      0.97     47576\n",
      "           1       0.71      0.80      0.75      5083\n",
      "\n",
      "    accuracy                           0.95     52659\n",
      "   macro avg       0.84      0.88      0.86     52659\n",
      "weighted avg       0.95      0.95      0.95     52659\n",
      "\n",
      "... Training severe_toxic\n"
     ]
    },
    {
     "name": "stderr",
     "output_type": "stream",
     "text": [
      "/home/raceking99/.local/lib/python3.7/site-packages/sklearn/svm/_base.py:947: ConvergenceWarning: Liblinear failed to converge, increase the number of iterations.\n",
      "  \"the number of iterations.\", ConvergenceWarning)\n"
     ]
    },
    {
     "name": "stdout",
     "output_type": "stream",
     "text": [
      "              precision    recall  f1-score   support\n",
      "\n",
      "           0       1.00      0.99      0.99     52133\n",
      "           1       0.33      0.61      0.43       526\n",
      "\n",
      "    accuracy                           0.98     52659\n",
      "   macro avg       0.66      0.80      0.71     52659\n",
      "weighted avg       0.99      0.98      0.99     52659\n",
      "\n",
      "... Training obscene\n",
      "              precision    recall  f1-score   support\n",
      "\n",
      "           0       0.99      0.99      0.99     49828\n",
      "           1       0.76      0.82      0.79      2831\n",
      "\n",
      "    accuracy                           0.98     52659\n",
      "   macro avg       0.88      0.90      0.89     52659\n",
      "weighted avg       0.98      0.98      0.98     52659\n",
      "\n",
      "... Training threat\n"
     ]
    },
    {
     "name": "stderr",
     "output_type": "stream",
     "text": [
      "/home/raceking99/.local/lib/python3.7/site-packages/sklearn/svm/_base.py:947: ConvergenceWarning: Liblinear failed to converge, increase the number of iterations.\n",
      "  \"the number of iterations.\", ConvergenceWarning)\n"
     ]
    },
    {
     "name": "stdout",
     "output_type": "stream",
     "text": [
      "              precision    recall  f1-score   support\n",
      "\n",
      "           0       1.00      1.00      1.00     52507\n",
      "           1       0.41      0.47      0.44       152\n",
      "\n",
      "    accuracy                           1.00     52659\n",
      "   macro avg       0.70      0.74      0.72     52659\n",
      "weighted avg       1.00      1.00      1.00     52659\n",
      "\n",
      "... Training insult\n",
      "              precision    recall  f1-score   support\n",
      "\n",
      "           0       0.99      0.98      0.98     50016\n",
      "           1       0.62      0.76      0.69      2643\n",
      "\n",
      "    accuracy                           0.97     52659\n",
      "   macro avg       0.81      0.87      0.83     52659\n",
      "weighted avg       0.97      0.97      0.97     52659\n",
      "\n",
      "... Training identity_hate\n"
     ]
    },
    {
     "name": "stderr",
     "output_type": "stream",
     "text": [
      "/home/raceking99/.local/lib/python3.7/site-packages/sklearn/svm/_base.py:947: ConvergenceWarning: Liblinear failed to converge, increase the number of iterations.\n",
      "  \"the number of iterations.\", ConvergenceWarning)\n"
     ]
    },
    {
     "name": "stdout",
     "output_type": "stream",
     "text": [
      "              precision    recall  f1-score   support\n",
      "\n",
      "           0       1.00      0.99      0.99     52188\n",
      "           1       0.38      0.54      0.45       471\n",
      "\n",
      "    accuracy                           0.99     52659\n",
      "   macro avg       0.69      0.76      0.72     52659\n",
      "weighted avg       0.99      0.99      0.99     52659\n",
      "\n"
     ]
    }
   ],
   "source": [
    "# Linear SVC\n",
    "#    This is essentially an SVM, but we pass the SVM into a OneVsRestClassifier,\n",
    "#    which is one of the methods we can use for datasets with multiple labels\n",
    "print('Training Linear SVC Pipeline')\n",
    "SVC_pipeline = Pipeline([\n",
    "                ('tfidf', TfidfVectorizer(stop_words=stop_words)),\n",
    "                ('clf', OneVsRestClassifier(LinearSVC(class_weight='balanced'), n_jobs=1)),\n",
    "            ])\n",
    "for category in categories:\n",
    "    print('... Training {}'.format(category))\n",
    "    # train the model using X_dtm & y\n",
    "    SVC_pipeline.fit(X_train, train[category])\n",
    "    # compute the testing accuracy\n",
    "    prediction = SVC_pipeline.predict(X_test)\n",
    "#     print('... ... Test accuracy is {}'.format(accuracy_score(test[category], prediction)))\n",
    "    print(classification_report(test[category], prediction, labels=np.unique(test[category])))\n"
   ]
  },
  {
   "cell_type": "code",
   "execution_count": null,
   "metadata": {
    "colab": {
     "base_uri": "https://localhost:8080/",
     "height": 238
    },
    "colab_type": "code",
    "id": "MAxUJ92Kseq1",
    "outputId": "208fe9cd-e2a7-42ac-ceb5-d1d56e6ac25d"
   },
   "outputs": [],
   "source": [
    "# Logistic Regression Pipeline\n",
    "#    This is essentially a Logistic Regression model, but we pass the Logistic Regression into a OneVsRestClassifier,\n",
    "#    which is one of the methods we can use for datasets with multiple labels\n",
    "print('Training Logistic Regression Pipeline')\n",
    "LogReg_pipeline = Pipeline([\n",
    "                ('tfidf', TfidfVectorizer(stop_words=stop_words)),\n",
    "                ('clf', OneVsRestClassifier(LogisticRegression(max_iter = 400, solver='sag', class_weight='balanced'), n_jobs=1)),\n",
    "            ])\n",
    "for category in categories:\n",
    "    print('... Training {}'.format(category))\n",
    "    # train the model using X_dtm & y\n",
    "    LogReg_pipeline.fit(X_train, train[category])\n",
    "    # compute the testing accuracy\n",
    "    prediction = LogReg_pipeline.predict(X_test)\n",
    "    print(classification_report(test[category], prediction, labels=np.unique(test[category])))\n"
   ]
  },
  {
   "cell_type": "markdown",
   "metadata": {},
   "source": [
    "#### Classifying Unlabeled Text"
   ]
  },
  {
   "cell_type": "code",
   "execution_count": 15,
   "metadata": {},
   "outputs": [
    {
     "name": "stdout",
     "output_type": "stream",
     "text": [
      "Training Naive Bayes Pipeline\n",
      "... Training toxic\n",
      "... ... Test accuracy is 0.9192350785240889\n",
      "... Training severe_toxic\n",
      "... ... Test accuracy is 0.9900112041626312\n",
      "... Training obscene\n",
      "... ... Test accuracy is 0.9515752293055318\n",
      "... Training threat\n",
      "... ... Test accuracy is 0.9971135038644866\n",
      "... Training insult\n",
      "... ... Test accuracy is 0.9517271501547694\n",
      "... Training identity_hate\n",
      "... ... Test accuracy is 0.9910556600011394\n"
     ]
    }
   ],
   "source": [
    "# Define a pipeline combining a text feature extractor with multi lable classifier\n",
    "# 1. Naive Bayes Pipeline\n",
    "#    This is essentially a Naive Bayes, but we pass the NB model into a OneVsRestClassifier,\n",
    "#    which is one of the methods we can use for datasets with multiple labels\n",
    "print('Training Naive Bayes Pipeline')\n",
    "\n",
    "f= open(\"naivebayesoutput.txt\",\"w+\")\n",
    "\n",
    "\n",
    "NB_pipeline = Pipeline([\n",
    "                ('tfidf', TfidfVectorizer(stop_words=stop_words)),\n",
    "                ('clf', MultinomialNB(\n",
    "                    fit_prior=True, class_prior=None)),\n",
    "            ])\n",
    "for category in categories:\n",
    "    print('... Training {}'.format(category))\n",
    "    # train the model using X_dtm & y\n",
    "    NB_pipeline.fit(X_train, train[category])\n",
    "    # compute the testing accuracy\n",
    "    prediction = NB_pipeline.predict(X_test)\n",
    "    print('... ... Test accuracy is {}'.format(accuracy_score(test[category], prediction)))\n",
    "#     print(prediction.head())\n",
    "#     print(prediction)\n",
    "    f.write(\"Preduction for {}\".format(category))\n",
    "    f.write(\"{}\".format(prediction))\n",
    "    f.write(\"True Test Values {}\".format(test[category]))\n",
    "f.close()"
   ]
  },
  {
   "cell_type": "code",
   "execution_count": 9,
   "metadata": {},
   "outputs": [
    {
     "name": "stdout",
     "output_type": "stream",
     "text": [
      "The first 5 elements in the test.csv are:\n",
      "                 id                                       comment_text\n",
      "0  00001cee341fdb12  Yo bitch Ja Rule is more succesful then you'll...\n",
      "1  0000247867823ef7  == From RfC == \\n\\n The title is fine as it is...\n",
      "2  00013b17ad220c46  \" \\n\\n == Sources == \\n\\n * Zawe Ashton on Lap...\n",
      "3  00017563c3f7919a  :If you have a look back at the source, the in...\n",
      "4  00017695ad8997eb          I don't anonymously edit articles at all.\n"
     ]
    }
   ],
   "source": [
    "df_test = pd.read_csv(\"./test.csv\", encoding = \"ISO-8859-1\")\n",
    "print('The first 5 elements in the test.csv are:')\n",
    "print(df_test.head())"
   ]
  },
  {
   "cell_type": "code",
   "execution_count": 10,
   "metadata": {},
   "outputs": [
    {
     "name": "stdout",
     "output_type": "stream",
     "text": [
      "yo bitch ja rule is more succesful then you will ever be whats up with you and hating you sad mofuckas i should bitch slap ur pethedic white faces and get you to kiss my ass you guys sicken me ja rule is about pride in da music man dont diss that shit on him and nothin is wrong bein like tupac he was a brother too fuckin white boys get things right next time\n",
      "test shape is (153164,)\n",
      "0    yo bitch ja rule is more succesful then you wi...\n",
      "1              from rfc the title is fine as it is imo\n",
      "2                     sources zawe ashton on lapland â\n",
      "3    if you have a look back at the source the info...\n",
      "4            i do not anonymously edit articles at all\n",
      "Name: comment_text, dtype: object\n"
     ]
    }
   ],
   "source": [
    "# Use the helper function to clean the text\n",
    "df_test['comment_text'] = df_test['comment_text'].map(lambda comment : clean_text(comment))\n",
    "print(df_test['comment_text'][0])\n",
    "\n",
    "# Splitting the data into train and test sets\n",
    "categories = ['toxic', 'severe_toxic', 'obscene', 'threat', 'insult', 'identity_hate']\n",
    "# train, test = train_test_split(df, random_state=42, test_size=0.33, shuffle=True)\n",
    "# X_train = train.comment_text\n",
    "X_test = df_test.comment_text\n",
    "# print('train shape is', X_train.shape)\n",
    "print('test shape is', X_test.shape)\n",
    "\n",
    "print(X_test.head())"
   ]
  }
 ],
 "metadata": {
  "accelerator": "GPU",
  "colab": {
   "collapsed_sections": [],
   "name": "nb-svm-logreg.ipynb",
   "provenance": [],
   "toc_visible": true
  },
  "kernelspec": {
   "display_name": "Python 3",
   "language": "python",
   "name": "python3"
  },
  "language_info": {
   "codemirror_mode": {
    "name": "ipython",
    "version": 3
   },
   "file_extension": ".py",
   "mimetype": "text/x-python",
   "name": "python",
   "nbconvert_exporter": "python",
   "pygments_lexer": "ipython3",
   "version": "3.7.3"
  }
 },
 "nbformat": 4,
 "nbformat_minor": 1
}
