{
 "cells": [
  {
   "cell_type": "code",
   "execution_count": 2,
   "metadata": {},
   "outputs": [
    {
     "data": {
      "text/html": [
       "<div>\n",
       "<style scoped>\n",
       "    .dataframe tbody tr th:only-of-type {\n",
       "        vertical-align: middle;\n",
       "    }\n",
       "\n",
       "    .dataframe tbody tr th {\n",
       "        vertical-align: top;\n",
       "    }\n",
       "\n",
       "    .dataframe thead th {\n",
       "        text-align: right;\n",
       "    }\n",
       "</style>\n",
       "<table border=\"1\" class=\"dataframe\">\n",
       "  <thead>\n",
       "    <tr style=\"text-align: right;\">\n",
       "      <th></th>\n",
       "      <th>id</th>\n",
       "      <th>comment_text</th>\n",
       "    </tr>\n",
       "  </thead>\n",
       "  <tbody>\n",
       "    <tr>\n",
       "      <td>0</td>\n",
       "      <td>00001cee341fdb12</td>\n",
       "      <td>Yo bitch Ja Rule is more succesful then you'll...</td>\n",
       "    </tr>\n",
       "    <tr>\n",
       "      <td>1</td>\n",
       "      <td>0000247867823ef7</td>\n",
       "      <td>== From RfC == \\n\\n The title is fine as it is...</td>\n",
       "    </tr>\n",
       "    <tr>\n",
       "      <td>2</td>\n",
       "      <td>00013b17ad220c46</td>\n",
       "      <td>\" \\n\\n == Sources == \\n\\n * Zawe Ashton on Lap...</td>\n",
       "    </tr>\n",
       "    <tr>\n",
       "      <td>3</td>\n",
       "      <td>00017563c3f7919a</td>\n",
       "      <td>:If you have a look back at the source, the in...</td>\n",
       "    </tr>\n",
       "    <tr>\n",
       "      <td>4</td>\n",
       "      <td>00017695ad8997eb</td>\n",
       "      <td>I don't anonymously edit articles at all.</td>\n",
       "    </tr>\n",
       "    <tr>\n",
       "      <td>...</td>\n",
       "      <td>...</td>\n",
       "      <td>...</td>\n",
       "    </tr>\n",
       "    <tr>\n",
       "      <td>153159</td>\n",
       "      <td>fffcd0960ee309b5</td>\n",
       "      <td>. \\n i totally agree, this stuff is nothing bu...</td>\n",
       "    </tr>\n",
       "    <tr>\n",
       "      <td>153160</td>\n",
       "      <td>fffd7a9a6eb32c16</td>\n",
       "      <td>== Throw from out field to home plate. == \\n\\n...</td>\n",
       "    </tr>\n",
       "    <tr>\n",
       "      <td>153161</td>\n",
       "      <td>fffda9e8d6fafa9e</td>\n",
       "      <td>\" \\n\\n == Okinotorishima categories == \\n\\n I ...</td>\n",
       "    </tr>\n",
       "    <tr>\n",
       "      <td>153162</td>\n",
       "      <td>fffe8f1340a79fc2</td>\n",
       "      <td>\" \\n\\n == \"\"One of the founding nations of the...</td>\n",
       "    </tr>\n",
       "    <tr>\n",
       "      <td>153163</td>\n",
       "      <td>ffffce3fb183ee80</td>\n",
       "      <td>\" \\n :::Stop already. Your bullshit is not wel...</td>\n",
       "    </tr>\n",
       "  </tbody>\n",
       "</table>\n",
       "<p>153164 rows × 2 columns</p>\n",
       "</div>"
      ],
      "text/plain": [
       "                      id                                       comment_text\n",
       "0       00001cee341fdb12  Yo bitch Ja Rule is more succesful then you'll...\n",
       "1       0000247867823ef7  == From RfC == \\n\\n The title is fine as it is...\n",
       "2       00013b17ad220c46  \" \\n\\n == Sources == \\n\\n * Zawe Ashton on Lap...\n",
       "3       00017563c3f7919a  :If you have a look back at the source, the in...\n",
       "4       00017695ad8997eb          I don't anonymously edit articles at all.\n",
       "...                  ...                                                ...\n",
       "153159  fffcd0960ee309b5  . \\n i totally agree, this stuff is nothing bu...\n",
       "153160  fffd7a9a6eb32c16  == Throw from out field to home plate. == \\n\\n...\n",
       "153161  fffda9e8d6fafa9e  \" \\n\\n == Okinotorishima categories == \\n\\n I ...\n",
       "153162  fffe8f1340a79fc2  \" \\n\\n == \"\"One of the founding nations of the...\n",
       "153163  ffffce3fb183ee80  \" \\n :::Stop already. Your bullshit is not wel...\n",
       "\n",
       "[153164 rows x 2 columns]"
      ]
     },
     "metadata": {},
     "output_type": "display_data"
    }
   ],
   "source": [
    "import pandas as pd\n",
    "import numpy as np\n",
    "from nltk.corpus import stopwords\n",
    "\n",
    "from sklearn.feature_extraction.text import CountVectorizer, TfidfVectorizer\n",
    "from sklearn.feature_selection import SelectKBest\n",
    "from sklearn.feature_selection import chi2\n",
    "\n",
    "from sklearn.pipeline import Pipeline\n",
    "from sklearn.model_selection import train_test_split\n",
    "from sklearn.metrics import accuracy_score, f1_score, roc_auc_score, average_precision_score, recall_score\n",
    "from sklearn import metrics\n",
    "from sklearn.cluster import DBSCAN\n",
    "\n",
    "\n",
    "%matplotlib inline\n",
    "import matplotlib.pyplot as plt\n",
    "from sklearn.decomposition import TruncatedSVD, SparsePCA\n",
    "\n",
    "import re\n",
    "\n",
    "stops = stopwords.words('english')\n",
    "\n",
    "vectorizer = CountVectorizer(stop_words=stops, lowercase=True, min_df=50, max_df=.95, max_features=1000)\n",
    "# this is a test\n",
    "train_df = pd.read_csv('../jigsaw-toxic-comment-classification-challenge/train.csv')\n",
    "test_df = pd.read_csv(\"../jigsaw-toxic-comment-classification-challenge/test.csv\")\n",
    "train_df['comment_text'].fillna(\"unknown\", inplace=True)\n",
    "test_df['comment_text'].fillna(\"unknown\", inplace=True)\n",
    "display(test_df)\n",
    "\n",
    "\n",
    "\n",
    "def get_score(y_val, pred):\n",
    "    accuracy = accuracy_score(y_val, pred)\n",
    "    f1 = f1_score(y_val, pred,average='macro')\n",
    "    precision = average_precision_score(y_val, pred,average='macro')\n",
    "    print(\"accuracy: \", accuracy)\n",
    "    print(\"f1: \",f1)\n",
    "    print(\"precision: \",precision)\n",
    "    return accuracy\n",
    "\n",
    "def clean_text(text):\n",
    "    text = text.lower()\n",
    "    text = re.sub(r\"what's\", \"what is \", text)\n",
    "    text = re.sub(r\"\\'s\", \" \", text)\n",
    "    text = re.sub(r\"\\'ve\", \" have \", text)\n",
    "    text = re.sub(r\"can't\", \"can not \", text)\n",
    "    text = re.sub(r\"n't\", \" not \", text)\n",
    "    text = re.sub(r\"i'm\", \"i am \", text)\n",
    "    text = re.sub(r\"\\'re\", \" are \", text)\n",
    "    text = re.sub(r\"\\'d\", \" would \", text)\n",
    "    text = re.sub(r\"\\'ll\", \" will \", text)\n",
    "    text = re.sub(r\"\\'scuse\", \" excuse \", text)\n",
    "    text = re.sub('\\W', ' ', text)\n",
    "    text = re.sub('\\s+', ' ', text)\n",
    "    text = text.strip(' ')\n",
    "    return text\n",
    "\n",
    "stop_words = set(stopwords.words('english'))\n",
    "\n",
    "\n",
    "# Use the helper function to clean the text\n",
    "train_df['comment_text'] = train_df['comment_text'].map(lambda comment : clean_text(comment))\n",
    "train_df['comment_text'] = train_df['comment_text'].map(lambda x: ' '.join([word for word in x.split() if word not in (stop_words)]))\n",
    "y_istoxic = train_df.toxic # used for binary classification\n",
    "y = train_df[['severe_toxic','obscene','threat','insult','identity_hate']].values\n",
    "y_typetoxic = np.zeros((y_istoxic.shape[0])) # used for many classes\n",
    "for i in np.arange(y.shape[1]):\n",
    "    y_typetoxic[y[:, i] == 1] = i+1\n",
    "x = train_df.comment_text\n",
    "x = vectorizer.fit_transform(x)"
   ]
  },
  {
   "cell_type": "code",
   "execution_count": 3,
   "metadata": {},
   "outputs": [
    {
     "data": {
      "text/plain": [
       "<159571x400 sparse matrix of type '<class 'numpy.int64'>'\n",
       "\twith 1433773 stored elements in Compressed Sparse Row format>"
      ]
     },
     "execution_count": 3,
     "metadata": {},
     "output_type": "execute_result"
    }
   ],
   "source": [
    "# feature selection\n",
    "xnew = SelectKBest(chi2, k=400).fit_transform(x, y_istoxic)\n",
    "xnew"
   ]
  },
  {
   "cell_type": "code",
   "execution_count": 4,
   "metadata": {},
   "outputs": [
    {
     "data": {
      "text/plain": [
       "array([[ 9.32320068e-03,  2.00526700e-03,  2.27246943e-04, ...,\n",
       "         2.54803797e-02, -1.45368315e-02,  5.40405710e-02],\n",
       "       [ 2.89726945e-03,  6.34931231e-04,  6.64868685e-05, ...,\n",
       "        -4.76204087e-02, -2.44806955e-02,  1.27858396e-02],\n",
       "       [ 1.16264031e-02,  2.48593128e-03,  2.51190636e-04, ...,\n",
       "         2.11022717e-01, -7.00545666e-02, -4.93020924e-02],\n",
       "       ...,\n",
       "       [ 2.69485627e-03,  5.06910532e-04,  6.96831720e-05, ...,\n",
       "         1.11159819e-02,  6.50500164e-03, -8.12917972e-03],\n",
       "       [ 4.53447298e-03,  1.30122488e-03,  1.89736180e-04, ...,\n",
       "         2.64889799e-02,  2.45873134e-01, -6.11505115e-02],\n",
       "       [ 1.31995947e-01,  2.57134574e-03,  1.50898161e-04, ...,\n",
       "        -1.49960226e-01,  2.25030949e-02, -1.07447097e-01]])"
      ]
     },
     "execution_count": 4,
     "metadata": {},
     "output_type": "execute_result"
    }
   ],
   "source": [
    "# dimension reduction\n",
    "import pickle\n",
    "x_pca = pickle.load(open('dim_reduced_count_vector.pickle', 'rb'))\n",
    "x_pca"
   ]
  },
  {
   "cell_type": "code",
   "execution_count": 4,
   "metadata": {
    "scrolled": true
   },
   "outputs": [
    {
     "name": "stdout",
     "output_type": "stream",
     "text": [
      "{'algorithm': 'auto', 'eps': 5, 'leaf_size': 30, 'metric': 'euclidean', 'metric_params': None, 'min_samples': 10, 'n_jobs': None, 'p': None}\n"
     ]
    },
    {
     "ename": "KeyboardInterrupt",
     "evalue": "",
     "output_type": "error",
     "traceback": [
      "\u001b[0;31m---------------------------------------------------------------------------\u001b[0m",
      "\u001b[0;31mKeyboardInterrupt\u001b[0m                         Traceback (most recent call last)",
      "\u001b[0;32m<ipython-input-4-4a7fe2039f33>\u001b[0m in \u001b[0;36m<module>\u001b[0;34m\u001b[0m\n\u001b[1;32m      1\u001b[0m \u001b[0mmodel\u001b[0m \u001b[0;34m=\u001b[0m \u001b[0mDBSCAN\u001b[0m\u001b[0;34m(\u001b[0m\u001b[0meps\u001b[0m\u001b[0;34m=\u001b[0m\u001b[0;36m5\u001b[0m\u001b[0;34m,\u001b[0m \u001b[0mmin_samples\u001b[0m\u001b[0;34m=\u001b[0m\u001b[0;36m10\u001b[0m\u001b[0;34m)\u001b[0m\u001b[0;34m\u001b[0m\u001b[0;34m\u001b[0m\u001b[0m\n\u001b[1;32m      2\u001b[0m \u001b[0mprint\u001b[0m\u001b[0;34m(\u001b[0m\u001b[0mmodel\u001b[0m\u001b[0;34m.\u001b[0m\u001b[0mget_params\u001b[0m\u001b[0;34m(\u001b[0m\u001b[0;34m)\u001b[0m\u001b[0;34m)\u001b[0m\u001b[0;34m\u001b[0m\u001b[0;34m\u001b[0m\u001b[0m\n\u001b[0;32m----> 3\u001b[0;31m \u001b[0my_pred\u001b[0m \u001b[0;34m=\u001b[0m \u001b[0mmodel\u001b[0m\u001b[0;34m.\u001b[0m\u001b[0mfit\u001b[0m\u001b[0;34m(\u001b[0m\u001b[0mxnew\u001b[0m\u001b[0;34m,\u001b[0m \u001b[0my_istoxic\u001b[0m\u001b[0;34m)\u001b[0m\u001b[0;34m\u001b[0m\u001b[0;34m\u001b[0m\u001b[0m\n\u001b[0m\u001b[1;32m      4\u001b[0m \u001b[0;31m# get_score(y_pred, y_test) #only for binary classification\u001b[0m\u001b[0;34m\u001b[0m\u001b[0;34m\u001b[0m\u001b[0;34m\u001b[0m\u001b[0m\n",
      "\u001b[0;32m~/opt/anaconda3/lib/python3.7/site-packages/sklearn/cluster/dbscan_.py\u001b[0m in \u001b[0;36mfit\u001b[0;34m(self, X, y, sample_weight)\u001b[0m\n\u001b[1;32m    349\u001b[0m         \u001b[0mX\u001b[0m \u001b[0;34m=\u001b[0m \u001b[0mcheck_array\u001b[0m\u001b[0;34m(\u001b[0m\u001b[0mX\u001b[0m\u001b[0;34m,\u001b[0m \u001b[0maccept_sparse\u001b[0m\u001b[0;34m=\u001b[0m\u001b[0;34m'csr'\u001b[0m\u001b[0;34m)\u001b[0m\u001b[0;34m\u001b[0m\u001b[0;34m\u001b[0m\u001b[0m\n\u001b[1;32m    350\u001b[0m         clust = dbscan(X, sample_weight=sample_weight,\n\u001b[0;32m--> 351\u001b[0;31m                        **self.get_params())\n\u001b[0m\u001b[1;32m    352\u001b[0m         \u001b[0mself\u001b[0m\u001b[0;34m.\u001b[0m\u001b[0mcore_sample_indices_\u001b[0m\u001b[0;34m,\u001b[0m \u001b[0mself\u001b[0m\u001b[0;34m.\u001b[0m\u001b[0mlabels_\u001b[0m \u001b[0;34m=\u001b[0m \u001b[0mclust\u001b[0m\u001b[0;34m\u001b[0m\u001b[0;34m\u001b[0m\u001b[0m\n\u001b[1;32m    353\u001b[0m         \u001b[0;32mif\u001b[0m \u001b[0mlen\u001b[0m\u001b[0;34m(\u001b[0m\u001b[0mself\u001b[0m\u001b[0;34m.\u001b[0m\u001b[0mcore_sample_indices_\u001b[0m\u001b[0;34m)\u001b[0m\u001b[0;34m:\u001b[0m\u001b[0;34m\u001b[0m\u001b[0;34m\u001b[0m\u001b[0m\n",
      "\u001b[0;32m~/opt/anaconda3/lib/python3.7/site-packages/sklearn/cluster/dbscan_.py\u001b[0m in \u001b[0;36mdbscan\u001b[0;34m(X, eps, min_samples, metric, metric_params, algorithm, leaf_size, p, sample_weight, n_jobs)\u001b[0m\n\u001b[1;32m    173\u001b[0m         \u001b[0;31m# This has worst case O(n^2) memory complexity\u001b[0m\u001b[0;34m\u001b[0m\u001b[0;34m\u001b[0m\u001b[0;34m\u001b[0m\u001b[0m\n\u001b[1;32m    174\u001b[0m         neighborhoods = neighbors_model.radius_neighbors(X, eps,\n\u001b[0;32m--> 175\u001b[0;31m                                                          return_distance=False)\n\u001b[0m\u001b[1;32m    176\u001b[0m \u001b[0;34m\u001b[0m\u001b[0m\n\u001b[1;32m    177\u001b[0m     \u001b[0;32mif\u001b[0m \u001b[0msample_weight\u001b[0m \u001b[0;32mis\u001b[0m \u001b[0;32mNone\u001b[0m\u001b[0;34m:\u001b[0m\u001b[0;34m\u001b[0m\u001b[0;34m\u001b[0m\u001b[0m\n",
      "\u001b[0;32m~/opt/anaconda3/lib/python3.7/site-packages/sklearn/neighbors/base.py\u001b[0m in \u001b[0;36mradius_neighbors\u001b[0;34m(self, X, radius, return_distance)\u001b[0m\n\u001b[1;32m    724\u001b[0m                 \u001b[0mresults\u001b[0m \u001b[0;34m=\u001b[0m \u001b[0mdist\u001b[0m\u001b[0;34m,\u001b[0m \u001b[0mneigh_ind\u001b[0m\u001b[0;34m\u001b[0m\u001b[0;34m\u001b[0m\u001b[0m\n\u001b[1;32m    725\u001b[0m             \u001b[0;32melse\u001b[0m\u001b[0;34m:\u001b[0m\u001b[0;34m\u001b[0m\u001b[0;34m\u001b[0m\u001b[0m\n\u001b[0;32m--> 726\u001b[0;31m                 \u001b[0mneigh_ind_list\u001b[0m \u001b[0;34m=\u001b[0m \u001b[0msum\u001b[0m\u001b[0;34m(\u001b[0m\u001b[0mresults\u001b[0m\u001b[0;34m,\u001b[0m \u001b[0;34m[\u001b[0m\u001b[0;34m]\u001b[0m\u001b[0;34m)\u001b[0m\u001b[0;34m\u001b[0m\u001b[0;34m\u001b[0m\u001b[0m\n\u001b[0m\u001b[1;32m    727\u001b[0m                 \u001b[0mresults\u001b[0m \u001b[0;34m=\u001b[0m \u001b[0mnp\u001b[0m\u001b[0;34m.\u001b[0m\u001b[0mempty\u001b[0m\u001b[0;34m(\u001b[0m\u001b[0mlen\u001b[0m\u001b[0;34m(\u001b[0m\u001b[0mneigh_ind_list\u001b[0m\u001b[0;34m)\u001b[0m\u001b[0;34m,\u001b[0m \u001b[0mdtype\u001b[0m\u001b[0;34m=\u001b[0m\u001b[0;34m'object'\u001b[0m\u001b[0;34m)\u001b[0m\u001b[0;34m\u001b[0m\u001b[0;34m\u001b[0m\u001b[0m\n\u001b[1;32m    728\u001b[0m                 \u001b[0mresults\u001b[0m\u001b[0;34m[\u001b[0m\u001b[0;34m:\u001b[0m\u001b[0;34m]\u001b[0m \u001b[0;34m=\u001b[0m \u001b[0mneigh_ind_list\u001b[0m\u001b[0;34m\u001b[0m\u001b[0;34m\u001b[0m\u001b[0m\n",
      "\u001b[0;32m~/opt/anaconda3/lib/python3.7/site-packages/sklearn/metrics/pairwise.py\u001b[0m in \u001b[0;36mpairwise_distances_chunked\u001b[0;34m(X, Y, reduce_func, metric, n_jobs, working_memory, **kwds)\u001b[0m\n\u001b[1;32m   1455\u001b[0m         \u001b[0;32mif\u001b[0m \u001b[0mreduce_func\u001b[0m \u001b[0;32mis\u001b[0m \u001b[0;32mnot\u001b[0m \u001b[0;32mNone\u001b[0m\u001b[0;34m:\u001b[0m\u001b[0;34m\u001b[0m\u001b[0;34m\u001b[0m\u001b[0m\n\u001b[1;32m   1456\u001b[0m             \u001b[0mchunk_size\u001b[0m \u001b[0;34m=\u001b[0m \u001b[0mD_chunk\u001b[0m\u001b[0;34m.\u001b[0m\u001b[0mshape\u001b[0m\u001b[0;34m[\u001b[0m\u001b[0;36m0\u001b[0m\u001b[0;34m]\u001b[0m\u001b[0;34m\u001b[0m\u001b[0;34m\u001b[0m\u001b[0m\n\u001b[0;32m-> 1457\u001b[0;31m             \u001b[0mD_chunk\u001b[0m \u001b[0;34m=\u001b[0m \u001b[0mreduce_func\u001b[0m\u001b[0;34m(\u001b[0m\u001b[0mD_chunk\u001b[0m\u001b[0;34m,\u001b[0m \u001b[0msl\u001b[0m\u001b[0;34m.\u001b[0m\u001b[0mstart\u001b[0m\u001b[0;34m)\u001b[0m\u001b[0;34m\u001b[0m\u001b[0;34m\u001b[0m\u001b[0m\n\u001b[0m\u001b[1;32m   1458\u001b[0m             \u001b[0m_check_chunk_size\u001b[0m\u001b[0;34m(\u001b[0m\u001b[0mD_chunk\u001b[0m\u001b[0;34m,\u001b[0m \u001b[0mchunk_size\u001b[0m\u001b[0;34m)\u001b[0m\u001b[0;34m\u001b[0m\u001b[0;34m\u001b[0m\u001b[0m\n\u001b[1;32m   1459\u001b[0m         \u001b[0;32myield\u001b[0m \u001b[0mD_chunk\u001b[0m\u001b[0;34m\u001b[0m\u001b[0;34m\u001b[0m\u001b[0m\n",
      "\u001b[0;32m~/opt/anaconda3/lib/python3.7/site-packages/sklearn/neighbors/base.py\u001b[0m in \u001b[0;36m_radius_neighbors_reduce_func\u001b[0;34m(self, dist, start, radius, return_distance)\u001b[0m\n\u001b[1;32m    604\u001b[0m         \u001b[0mneigh\u001b[0m \u001b[0;34m:\u001b[0m \u001b[0mlist\u001b[0m \u001b[0mof\u001b[0m \u001b[0mn_samples_chunk\u001b[0m \u001b[0;36m1\u001b[0m\u001b[0md\u001b[0m \u001b[0marrays\u001b[0m\u001b[0;34m\u001b[0m\u001b[0;34m\u001b[0m\u001b[0m\n\u001b[1;32m    605\u001b[0m         \"\"\"\n\u001b[0;32m--> 606\u001b[0;31m         \u001b[0mneigh_ind\u001b[0m \u001b[0;34m=\u001b[0m \u001b[0;34m[\u001b[0m\u001b[0mnp\u001b[0m\u001b[0;34m.\u001b[0m\u001b[0mwhere\u001b[0m\u001b[0;34m(\u001b[0m\u001b[0md\u001b[0m \u001b[0;34m<=\u001b[0m \u001b[0mradius\u001b[0m\u001b[0;34m)\u001b[0m\u001b[0;34m[\u001b[0m\u001b[0;36m0\u001b[0m\u001b[0;34m]\u001b[0m \u001b[0;32mfor\u001b[0m \u001b[0md\u001b[0m \u001b[0;32min\u001b[0m \u001b[0mdist\u001b[0m\u001b[0;34m]\u001b[0m\u001b[0;34m\u001b[0m\u001b[0;34m\u001b[0m\u001b[0m\n\u001b[0m\u001b[1;32m    607\u001b[0m \u001b[0;34m\u001b[0m\u001b[0m\n\u001b[1;32m    608\u001b[0m         \u001b[0;32mif\u001b[0m \u001b[0mreturn_distance\u001b[0m\u001b[0;34m:\u001b[0m\u001b[0;34m\u001b[0m\u001b[0;34m\u001b[0m\u001b[0m\n",
      "\u001b[0;32m~/opt/anaconda3/lib/python3.7/site-packages/sklearn/neighbors/base.py\u001b[0m in \u001b[0;36m<listcomp>\u001b[0;34m(.0)\u001b[0m\n\u001b[1;32m    604\u001b[0m         \u001b[0mneigh\u001b[0m \u001b[0;34m:\u001b[0m \u001b[0mlist\u001b[0m \u001b[0mof\u001b[0m \u001b[0mn_samples_chunk\u001b[0m \u001b[0;36m1\u001b[0m\u001b[0md\u001b[0m \u001b[0marrays\u001b[0m\u001b[0;34m\u001b[0m\u001b[0;34m\u001b[0m\u001b[0m\n\u001b[1;32m    605\u001b[0m         \"\"\"\n\u001b[0;32m--> 606\u001b[0;31m         \u001b[0mneigh_ind\u001b[0m \u001b[0;34m=\u001b[0m \u001b[0;34m[\u001b[0m\u001b[0mnp\u001b[0m\u001b[0;34m.\u001b[0m\u001b[0mwhere\u001b[0m\u001b[0;34m(\u001b[0m\u001b[0md\u001b[0m \u001b[0;34m<=\u001b[0m \u001b[0mradius\u001b[0m\u001b[0;34m)\u001b[0m\u001b[0;34m[\u001b[0m\u001b[0;36m0\u001b[0m\u001b[0;34m]\u001b[0m \u001b[0;32mfor\u001b[0m \u001b[0md\u001b[0m \u001b[0;32min\u001b[0m \u001b[0mdist\u001b[0m\u001b[0;34m]\u001b[0m\u001b[0;34m\u001b[0m\u001b[0;34m\u001b[0m\u001b[0m\n\u001b[0m\u001b[1;32m    607\u001b[0m \u001b[0;34m\u001b[0m\u001b[0m\n\u001b[1;32m    608\u001b[0m         \u001b[0;32mif\u001b[0m \u001b[0mreturn_distance\u001b[0m\u001b[0;34m:\u001b[0m\u001b[0;34m\u001b[0m\u001b[0;34m\u001b[0m\u001b[0m\n",
      "\u001b[0;32m<__array_function__ internals>\u001b[0m in \u001b[0;36mwhere\u001b[0;34m(*args, **kwargs)\u001b[0m\n",
      "\u001b[0;31mKeyboardInterrupt\u001b[0m: "
     ]
    }
   ],
   "source": [
    "model = DBSCAN(eps=5, min_samples=10)\n",
    "print(model.get_params())\n",
    "y_pred = model.fit(xnew, y_istoxic)\n",
    "# get_score(y_pred, y_test) #only for binary classification"
   ]
  },
  {
   "cell_type": "code",
   "execution_count": null,
   "metadata": {},
   "outputs": [
    {
     "name": "stdout",
     "output_type": "stream",
     "text": [
      "(159571, 67)\n"
     ]
    }
   ],
   "source": [
    "import time\n",
    "start = time.time()\n",
    "dataset = xnew[:, :67]\n",
    "print(dataset.shape)\n",
    "cutoff = 159571\n",
    "db = DBSCAN(eps=200, min_samples=25).fit(dataset[:cutoff])\n",
    "core_samples_mask = np.zeros_like(db.labels_, dtype=bool)\n",
    "core_samples_mask[db.core_sample_indices_] = True\n",
    "labels = db.labels_\n",
    "print(\"percent of points in first cluster: %0.1f\" % (100*len(labels[labels == 0])/cutoff))\n",
    "labels_true = y_istoxic[:cutoff]\n",
    "\n",
    "# Number of clusters in labels, ignoring noise if present.\n",
    "n_clusters_ = len(set(labels)) - (1 if -1 in labels else 0)\n",
    "n_noise_ = list(labels).count(-1)\n",
    "\n",
    "print('Estimated number of clusters: %d' % n_clusters_)\n",
    "print('Estimated percentage of noise points: %0.1f' % (100*n_noise_/cutoff))\n",
    "print(\"Homogeneity: %0.3f\" % metrics.homogeneity_score(labels_true, labels))\n",
    "print(\"Completeness: %0.3f\" % metrics.completeness_score(labels_true, labels))\n",
    "print(\"V-measure: %0.3f\" % metrics.v_measure_score(labels_true, labels))\n",
    "print(\"Adjusted Rand Index: %0.3f\"\n",
    "      % metrics.adjusted_rand_score(labels_true, labels))\n",
    "print(\"Adjusted Mutual Information: %0.3f\"\n",
    "      % metrics.adjusted_mutual_info_score(labels_true, labels))\n",
    "print(\"Silhouette Coefficient: %0.3f\"\n",
    "      % metrics.silhouette_score(dataset[:cutoff], labels))\n",
    "print(\"total time taken: %0.3f (s)\" % (time.time()-start))"
   ]
  },
  {
   "cell_type": "code",
   "execution_count": 42,
   "metadata": {},
   "outputs": [
    {
     "name": "stdout",
     "output_type": "stream",
     "text": [
      "(159571, 14)\n"
     ]
    }
   ],
   "source": [
    "a = labels\n",
    "b = np.zeros((a.size, a.max()+1))\n",
    "b[np.arange(a.size), a] = 1\n",
    "print(b.shape)\n",
    "pickle.dump(b, open('1hot_SKB_14CLS.pkl', 'wb'))"
   ]
  },
  {
   "cell_type": "code",
   "execution_count": 83,
   "metadata": {
    "scrolled": true
   },
   "outputs": [
    {
     "name": "stdout",
     "output_type": "stream",
     "text": [
      "\n",
      "This is for cluster -1\n",
      "\n",
      "1     aww matches background colour seemingly stuck ...\n",
      "2     hey man really trying edit war guy constantly ...\n",
      "3     make real suggestions improvement wondered sec...\n",
      "7     vandalism matt shirvington article reverted pl...\n",
      "10    fair use rationale image wonju jpg thanks uplo...\n",
      "12    hey talk exclusive group wp talibans good dest...\n",
      "13    start throwing accusations warnings lets revie...\n",
      "16              bye look come think comming back tosser\n",
      "19    mean bother see writing something regarding re...\n",
      "20    regarding recent edits please read wp filmplot...\n",
      "Name: comment_text, dtype: object\n",
      "\n",
      "This is for cluster 0\n",
      "\n",
      "0     explanation edits made username hardcore metal...\n",
      "4                         sir hero chance remember page\n",
      "5              congratulations well use tools well talk\n",
      "6                           cocksucker piss around work\n",
      "9                  alignment subject contrary dulithgow\n",
      "11                     bbq man lets discuss maybe phone\n",
      "15    juelz santanas age 2002 juelz santana 18 years...\n",
      "17      redirect talk voydan pop georgiev chernodrinski\n",
      "18    mitsurugi point made sense argue include hindi...\n",
      "21                        good know yeah studying deepu\n",
      "Name: comment_text, dtype: object\n",
      "\n",
      "This is for cluster 1\n",
      "\n",
      "8      sorry word nonsense offensive anyway intending...\n",
      "94     lack balance article seriously balance would b...\n",
      "201    blatant pov pushing neither guys made contribu...\n",
      "270    removed link references used health study say ...\n",
      "272    german article day dear jimbo german wikipedia...\n",
      "291    article ed morrissey hi moved article ed morri...\n",
      "304    tried objective possible treat author head som...\n",
      "509    quote wikipedia article links page someone con...\n",
      "587    article marked fixing hoping would guidelines ...\n",
      "918    geometry love good day search sources article ...\n",
      "Name: comment_text, dtype: object\n",
      "\n",
      "This is for cluster 2\n",
      "\n",
      "14      oh girl started arguments stuck nose belong be...\n",
      "360     oppose find hard believe requires rfc wikiworl...\n",
      "620     thank experimenting wikipedia test worked reve...\n",
      "723     howd homeonttherange typical problem literal t...\n",
      "797     comma correct title first series yes minister ...\n",
      "996     common knowledge karaims karaite jews boast de...\n",
      "1730    theory today experts believe aryans came east ...\n",
      "1883    direktor believe clearly see ceha nationalist ...\n",
      "1918    arji makes think assertion mistaken assertion ...\n",
      "2316    believe someone else responsible citing talbot...\n",
      "Name: comment_text, dtype: object\n",
      "\n",
      "This is for cluster 3\n",
      "\n",
      "30     could post block expires funny thing think unc...\n",
      "38     hi explicit block fenian edit warring giant ca...\n",
      "211                              fuck block faggot pussy\n",
      "225    important message block live mess made parker ...\n",
      "276                         block evading ip blocked guy\n",
      "303    btw whatever decision adminstration wish take ...\n",
      "337    say irrigiation structure exactly mean live ir...\n",
      "602    fucker mother fucker nothing block university ...\n",
      "605    explained reasoning block user_talk gwen_gale ...\n",
      "711    authority threatning block saying information ...\n",
      "Name: comment_text, dtype: object\n",
      "\n",
      "This is for cluster 4\n",
      "\n",
      "32      praise looked article 6 months ago much improved\n",
      "70     oppose article stands properly reference wp re...\n",
      "95     thanks see violating clearly stated wikipedia ...\n",
      "116    bigfoot reference magazine better known engine...\n",
      "131    tcm find evidence acupressure tcm rather deriv...\n",
      "158    responded milemoney reasoning edit gave reason...\n",
      "202    reliable sources indicate otherwise please ins...\n",
      "274    found one sort anyhow web site jewsforlife org...\n",
      "283    yes mainsprings used clocks well please feel f...\n",
      "340    wasnt really attacking regarding lisa williams...\n",
      "Name: comment_text, dtype: object\n",
      "\n",
      "This is for cluster 5\n",
      "\n",
      "40      sure lead must briefly summarize armenia histo...\n",
      "41      tfd think eced think responded without seeing ...\n",
      "386     saw reference added note see note 10 name repu...\n",
      "732     muslim men harassment mm page amazing three mu...\n",
      "782     unsourced personal commentary new account adde...\n",
      "931     changing somali people wiki seriously page bia...\n",
      "1027    true practice many places outside province reg...\n",
      "1108    daily mirror version hillsborough insults adde...\n",
      "1485    hmm feeling failed added text would find actua...\n",
      "1541    elvek october 3 2010 thanks much jrspring sugg...\n",
      "Name: comment_text, dtype: object\n",
      "\n",
      "This is for cluster 6\n",
      "\n",
      "60     locking page would also violate wp newbies whe...\n",
      "88     website hey thinking getting website display p...\n",
      "115     also think vegetable basket needs wikipedia page\n",
      "141    new wikiproject novels initiative begun new in...\n",
      "151    sorry puck one ever said dick number one clear...\n",
      "195    oh also would films named three variation ther...\n",
      "237    thought would offer advise aswell 1 wikipedia ...\n",
      "244    name troy tedford troy telford looking orginal...\n",
      "288    level 1 message hello thank experimenting wiki...\n",
      "339    3rr violation patrickflaherty user user patric...\n",
      "Name: comment_text, dtype: object\n",
      "\n",
      "This is for cluster 7\n",
      "\n",
      "61      bisexual like homosexual heterosexual defined ...\n",
      "161     actually direct quotes quotation marks attribu...\n",
      "562                    y2kgtp actually reverted vandalism\n",
      "594     security reasons edit war said edit summary te...\n",
      "968     raffaele request lawyer interrogated nov 5 ref...\n",
      "1232    bleh ideas really something wrong server damn ...\n",
      "1530    interesting one great hero von mueller actuall...\n",
      "1574    gwp methane reported 21 22 23 various pages me...\n",
      "1643    think conducting form social research prodding...\n",
      "1765    jakarta live jakarta indonesian objective 2010...\n",
      "Name: comment_text, dtype: object\n",
      "\n",
      "This is for cluster 8\n",
      "\n",
      "67      went around time certainly case time later sto...\n",
      "156     unblock submission response less 3 minutes pro...\n",
      "282           otherwise pov look flemish linguistics case\n",
      "1067    case closed answer question whether two senten...\n",
      "1105    curse daniel case accept hope wikipedia unbloc...\n",
      "1119          case would new age least acceptable _friend\n",
      "1170    dude nyt mention case wikipedia works seriousl...\n",
      "1229    well done wikipedia molly arbroath scotland de...\n",
      "1484    arbitration evidence thank taking time present...\n",
      "1496    please look original page 197 link case copyin...\n",
      "Name: comment_text, dtype: object\n",
      "\n",
      "This is for cluster 9\n",
      "\n",
      "69      parzival418 trying scare thatso say comments t...\n",
      "591     never edited content comments please correct f...\n",
      "618     warning earth would like leave access talk pag...\n",
      "631     gurch interesting fellow take comments heart t...\n",
      "657     april 2010 attitude comments appreciated pleas...\n",
      "874                           please sign comments thanks\n",
      "1009    quality wifi currently visiting france stayed ...\n",
      "1036    obvious understood third opinion see text dial...\n",
      "1583    told story channel 5 talk show reported sky ne...\n",
      "2091    related groups info removed infobox dedicated ...\n",
      "Name: comment_text, dtype: object\n",
      "\n",
      "This is for cluster 10\n",
      "\n",
      "155     military history wikiproject newsletter issue ...\n",
      "179     reply loser un defines vietnam part southeast ...\n",
      "444     men ranking figure nice look misses key time 2...\n",
      "636     wp film december 2010 newsletter december 2010...\n",
      "833     rajputs rajasthanis right p prof hancock studi...\n",
      "909     found chronological list pc engine games thoug...\n",
      "999     title redirect altona hamburg w would change m...\n",
      "1219    joker european parliament power anything non b...\n",
      "1406    2007 utc alaska part russia states south usa p...\n",
      "1623    understand quite well evolution supposed work ...\n",
      "Name: comment_text, dtype: object\n",
      "\n",
      "This is for cluster 11\n",
      "\n",
      "212     attacking another editor trying make point eas...\n",
      "290     another question style information stripping o...\n",
      "958     jim burton child molesting faggot see still us...\n",
      "998     trying inject humour evidenced winky face ridi...\n",
      "1001                         another lead dyk yee ha talk\n",
      "1021    zero zero interest oregon cotw hello wikiproje...\n",
      "1059    talking per source another editor believes sub...\n",
      "1060    thank gary thanks suggestions patience ga revi...\n",
      "1612    first three rejected hand following half dozen...\n",
      "1782    another addition since please use experimental...\n",
      "Name: comment_text, dtype: object\n",
      "\n",
      "This is for cluster 12\n",
      "\n",
      "294     currently blocked editing unable add tag howev...\n",
      "675     please add unsourced negative controversial bi...\n",
      "717     accusation uncalled reverted one edit second e...\n",
      "1000    rex mundi created stub rex mundi rex mundi hig...\n",
      "1358    add belfast telegraph 6 april 2012 states leav...\n",
      "1716    palestnian imagery figure nationalitiesexample...\n",
      "1825    thanks figuring locate images good montage wor...\n",
      "2263    one complained argument pretty poor one calvin...\n",
      "2521    hello want able upload images wikipedia ready ...\n",
      "2811    yeah reference trying retain original content ...\n",
      "Name: comment_text, dtype: object\n",
      "\n",
      "This is for cluster 13\n",
      "\n",
      "311     sure worked articles arcayne would fine two se...\n",
      "410                merge articles merged operibus anteire\n",
      "440     thanks unblock would compromise live margins c...\n",
      "565     vince fyi yellowfrogs longdendale councillor s...\n",
      "647     well never answered question specific intentio...\n",
      "810                             made fixing stem articles\n",
      "842     need follow policy taivo instead following far...\n",
      "1073    raul idea thought deserved special mention rea...\n",
      "1250    trying produce useful informative sourced arti...\n",
      "1399    gan 2013 cotton bowl classic thanks reviewing ...\n",
      "Name: comment_text, dtype: object\n",
      "\n",
      "This is for cluster 14\n",
      "\n",
      "329     http www theatlantic com entertainment archive...\n",
      "518     baer didnt invent video games jewish propagand...\n",
      "614     cherry pick anything official facts essentiall...\n",
      "629     edit request 29 october 2013 arctic monkeys pl...\n",
      "640     like example given following post http theauto...\n",
      "836     bookfinder com found probabilistic reasoning i...\n",
      "881     phil plait claimed radio program joe rogan shu...\n",
      "954     anyone interested accurate deliberately mislea...\n",
      "1088    forget inaccuracy wikipedia aims go ahead leav...\n",
      "1248    please delete hi animeking237 please delete en...\n",
      "Name: comment_text, dtype: object\n",
      "\n",
      "This is for cluster 15\n",
      "\n",
      "359       ok maybe want comment talk page interestig know\n",
      "626     pretty humorous comment someone promotes far l...\n",
      "634     season 5 issues sure removed edits season 5 fu...\n",
      "660                                  told wo comment want\n",
      "783     comment indented response mine one removed dis...\n",
      "896     flexpay tax law comment would interested seein...\n",
      "1102    continual removal attempt hiding said removal ...\n",
      "1195    ok ok sorry wo sent pictures thought leave apo...\n",
      "1683    alright suppose decide whether want remove com...\n",
      "1792    perhaps external link human_rights_and_equal_o...\n",
      "Name: comment_text, dtype: object\n",
      "\n",
      "This is for cluster 16\n",
      "\n",
      "414     support sikh wikipedians wikipedia support sin...\n",
      "572     agree disagree relative merits fish character ...\n",
      "703     shamash sun agree merge sammash shamash since ...\n",
      "862     dont agree info saying since hurry edit page d...\n",
      "1221    alexi tweak things making sense one state nota...\n",
      "1313    agree actual usage russia revert version conse...\n",
      "1467    agree idea easily abused main support comes fa...\n",
      "1742                                                agree\n",
      "1783    agree put something like german breakout outco...\n",
      "1869             2014 utc agree deletion 13 57 17 october\n",
      "Name: comment_text, dtype: object\n",
      "[4515, 4005, 100, 54, 73, 402, 51, 182, 56, 61, 59, 56, 58, 64, 85, 57, 64, 58]\n"
     ]
    }
   ],
   "source": [
    "indices = [np.where(labels == i) for i in np.arange(-1, n_clusters_)]  \n",
    "bycluster = [train_df.comment_text[index[0]] for index in indices]\n",
    "for idx, c in enumerate(bycluster):\n",
    "    print('\\nThis is for cluster %d\\n' %(idx-1))\n",
    "    print(c[:10])\n",
    "print([cluster.shape[0] for cluster in bycluster])"
   ]
  },
  {
   "cell_type": "code",
   "execution_count": 5,
   "metadata": {
    "scrolled": false
   },
   "outputs": [
    {
     "name": "stdout",
     "output_type": "stream",
     "text": [
      "(67, 1)\n"
     ]
    },
    {
     "data": {
      "image/png": "[encoded data removed]",
      "text/plain": [
       "<Figure size 432x288 with 1 Axes>"
      ]
     },
     "metadata": {
      "needs_background": "light"
     },
     "output_type": "display_data"
    },
    {
     "data": {
      "image/png": "[encoded data removed]",
      "text/plain": [
       "<Figure size 432x288 with 1 Axes>"
      ]
     },
     "metadata": {
      "needs_background": "light"
     },
     "output_type": "display_data"
    }
   ],
   "source": [
    "# This one for pca data.\n",
    "# Black removed and is used for noise instead.\n",
    "unique_labels = set(labels)\n",
    "colors = [plt.cm.Spectral(each)\n",
    "          for each in np.linspace(0, 1, len(unique_labels))]\n",
    "xs = np.reshape(np.arange(dataset.shape[1]), (dataset.shape[1], 1))\n",
    "print(xs.shape)\n",
    "for idx, pt in enumerate(dataset[:cutoff]):\n",
    "#     print(pt[pt > 0].shape)\n",
    "    col = [0, 0, 0, 1] if labels[idx] == -1 else colors[labels[idx]]\n",
    "    if labels[idx] <= 0 or pt[pt > 0].shape[0] <= 0:\n",
    "        continue\n",
    "    xs = np.where(pt > 0)\n",
    "    new_xs = np.reshape(xs[0], (xs[0].shape[0], 1))\n",
    "#     new_xs = np.array(list(zip(*xs)))[:, 1]\n",
    "    plt.plot(new_xs, pt[pt > 0].T, '.', color=col)\n",
    "plt.title('parallel coordinates plot for attributes')\n",
    "\n",
    "plt.figure()\n",
    "for k, col in zip(unique_labels, colors):\n",
    "    if k == -1:\n",
    "        # Black used for noise.\n",
    "        col = [0, 0, 0, 1]\n",
    "\n",
    "    class_member_mask = (labels == k)\n",
    "\n",
    "    xy = dataset[:cutoff][class_member_mask & core_samples_mask] # need todense because otherwise is wrong datatype to plot\n",
    "    plt.plot(xy[:, 0], xy[:, 1], 'o', markerfacecolor=tuple(col),\n",
    "             markeredgecolor='k', markersize=14)\n",
    "\n",
    "    xy = dataset[:cutoff][class_member_mask & ~core_samples_mask] # need todense because otherwise is wrong datatype to plot\n",
    "    plt.plot(xy[:, 0], xy[:, 1], 'o', markerfacecolor=tuple(col),\n",
    "             markeredgecolor='k', markersize=6)\n",
    "\n",
    "plt.title('Estimated number of clusters: %d' % n_clusters_)\n",
    "plt.show()"
   ]
  },
  {
   "cell_type": "code",
   "execution_count": 92,
   "metadata": {},
   "outputs": [
    {
     "name": "stdout",
     "output_type": "stream",
     "text": [
      "(67, 1)\n"
     ]
    },
    {
     "data": {
      "image/png": "[encoded data removed]",
      "text/plain": [
       "<Figure size 432x288 with 1 Axes>"
      ]
     },
     "metadata": {
      "needs_background": "light"
     },
     "output_type": "display_data"
    },
    {
     "data": {
      "image/png": "[encoded data removed]",
      "text/plain": [
       "<Figure size 432x288 with 1 Axes>"
      ]
     },
     "metadata": {
      "needs_background": "light"
     },
     "output_type": "display_data"
    }
   ],
   "source": [
    "dataset = dataset\n",
    "# Black removed and is used for noise instead.\n",
    "unique_labels = set(labels)\n",
    "colors = [plt.cm.Spectral(each)\n",
    "          for each in np.linspace(0, 1, len(unique_labels))]\n",
    "xs = np.reshape(np.arange(dataset.shape[1]), (dataset.shape[1], 1))\n",
    "print(xs.shape)\n",
    "for idx, pt in enumerate(dataset[:cutoff]):\n",
    "#     print(pt[pt > 0].shape)\n",
    "    col = [0, 0, 0, 1] if labels[idx] == -1 else colors[labels[idx]]\n",
    "    if labels[idx] <= 0 or pt[pt > 0].shape[0] <= 0:\n",
    "        continue\n",
    "    xs = np.where(pt.T > 0)\n",
    "    new_xs = np.reshape(xs[0], (xs[0].shape[0], 1))\n",
    "# #     new_xs = np.array(list(zip(*xs)))[:, 1]\n",
    "    plt.plot(new_xs, pt[pt > 0].T, '.', color=col)\n",
    "plt.title('parallel coordinates plot for attributes')\n",
    "\n",
    "plt.figure()\n",
    "for k, col in zip(unique_labels, colors):\n",
    "    if k == -1:\n",
    "        # Black used for noise.\n",
    "        col = [0, 0, 0, 1]\n",
    "\n",
    "    class_member_mask = (labels == k)\n",
    "\n",
    "    xy = dataset[:cutoff][class_member_mask & core_samples_mask] # need todense because otherwise is wrong datatype to plot\n",
    "    plt.plot(xy[:, 0], xy[:, 1], 'o', markerfacecolor=tuple(col),\n",
    "             markeredgecolor='k', markersize=14)\n",
    "\n",
    "    xy = dataset[:cutoff][class_member_mask & ~core_samples_mask] # need todense because otherwise is wrong datatype to plot\n",
    "    plt.plot(xy[:, 0], xy[:, 1], 'o', markerfacecolor=tuple(col),\n",
    "             markeredgecolor='k', markersize=6)\n",
    "\n",
    "plt.title('Estimated number of clusters: %d' % n_clusters_)\n",
    "plt.show()"
   ]
  },
  {
   "cell_type": "code",
   "execution_count": 36,
   "metadata": {},
   "outputs": [
    {
     "data": {
      "text/plain": [
       "(32103, 67)"
      ]
     },
     "execution_count": 36,
     "metadata": {},
     "output_type": "execute_result"
    }
   ],
   "source": [
    "xy.shape"
   ]
  },
  {
   "cell_type": "code",
   "execution_count": 7,
   "metadata": {
    "scrolled": false
   },
   "outputs": [
    {
     "name": "stdout",
     "output_type": "stream",
     "text": [
      "[[0.         2.82842712]\n",
      " [0.         1.        ]\n",
      " [0.         2.44948974]\n",
      " ...\n",
      " [0.         0.        ]\n",
      " [0.         2.        ]\n",
      " [0.         1.73205081]] [[     0 114751]\n",
      " [     1 100060]\n",
      " [     2  48230]\n",
      " ...\n",
      " [  1173   1508]\n",
      " [159569   2921]\n",
      " [159570  20804]]\n"
     ]
    }
   ],
   "source": [
    "from sklearn.neighbors import NearestNeighbors\n",
    "neigh = NearestNeighbors(n_neighbors=2)\n",
    "nbrs = neigh.fit(xnew)\n",
    "distances, indices = nbrs.kneighbors(xnew)\n",
    "print(distances, indices)"
   ]
  },
  {
   "cell_type": "code",
   "execution_count": 8,
   "metadata": {},
   "outputs": [
    {
     "data": {
      "text/plain": [
       "Text(0.5, 1.0, 'Finding the optimal value for epsilon by 2 nearest neighbors')"
      ]
     },
     "execution_count": 8,
     "metadata": {},
     "output_type": "execute_result"
    },
    {
     "data": {
      "image/png": "[encoded data removed]",
      "text/plain": [
       "<Figure size 432x288 with 1 Axes>"
      ]
     },
     "metadata": {
      "needs_background": "light"
     },
     "output_type": "display_data"
    }
   ],
   "source": [
    "distances = np.sort(distances, axis=0)\n",
    "distances = distances[:, 1]\n",
    "plt.figure()\n",
    "plt.plot(distances)\n",
    "plt.xlabel('n')\n",
    "plt.ylabel('eps')\n",
    "plt.title('Finding the optimal value for epsilon by 2 nearest neighbors')"
   ]
  },
  {
   "cell_type": "code",
   "execution_count": 13,
   "metadata": {},
   "outputs": [
    {
     "data": {
      "text/plain": [
       "Text(0.5, 1.0, 'Finding the optimal value for epsilon by 2 nearest neighbors')"
      ]
     },
     "execution_count": 13,
     "metadata": {},
     "output_type": "execute_result"
    },
    {
     "data": {
      "image/png": "[encoded data removed]",
      "text/plain": [
       "<Figure size 432x288 with 1 Axes>"
      ]
     },
     "metadata": {
      "needs_background": "light"
     },
     "output_type": "display_data"
    }
   ],
   "source": [
    "new_dist = distances[159400:]\n",
    "plt.figure()\n",
    "plt.plot(np.arange(159400, xnew.shape[0]), new_dist)\n",
    "plt.xlabel('n')\n",
    "plt.ylabel('eps')\n",
    "plt.title('Finding the optimal value for epsilon by 2 nearest neighbors')"
   ]
  },
  {
   "cell_type": "code",
   "execution_count": null,
   "metadata": {},
   "outputs": [],
   "source": []
  }
 ],
 "metadata": {
  "kernelspec": {
   "display_name": "Python 3",
   "language": "python",
   "name": "python3"
  },
  "language_info": {
   "codemirror_mode": {
    "name": "ipython",
    "version": 3
   },
   "file_extension": ".py",
   "mimetype": "text/x-python",
   "name": "python",
   "nbconvert_exporter": "python",
   "pygments_lexer": "ipython3",
   "version": "3.7.4"
  }
 },
 "nbformat": 4,
 "nbformat_minor": 2
}
